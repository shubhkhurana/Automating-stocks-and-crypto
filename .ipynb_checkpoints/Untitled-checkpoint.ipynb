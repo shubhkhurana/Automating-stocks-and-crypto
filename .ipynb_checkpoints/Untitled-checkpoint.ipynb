{
 "cells": [
  {
   "cell_type": "code",
   "execution_count": 1,
   "id": "resident-mixer",
   "metadata": {
    "scrolled": true
   },
   "outputs": [
    {
     "name": "stdout",
     "output_type": "stream",
     "text": [
      "Requirement already satisfied: transformers in c:\\users\\asus\\appdata\\local\\programs\\python\\python310\\lib\\site-packages (4.18.0)\n",
      "Requirement already satisfied: tqdm>=4.27 in c:\\users\\asus\\appdata\\local\\programs\\python\\python310\\lib\\site-packages (from transformers) (4.64.0)\n",
      "Requirement already satisfied: packaging>=20.0 in c:\\users\\asus\\appdata\\local\\programs\\python\\python310\\lib\\site-packages (from transformers) (21.3)\n",
      "Requirement already satisfied: filelock in c:\\users\\asus\\appdata\\local\\programs\\python\\python310\\lib\\site-packages (from transformers) (3.6.0)\n",
      "Requirement already satisfied: numpy>=1.17 in c:\\users\\asus\\appdata\\local\\programs\\python\\python310\\lib\\site-packages (from transformers) (1.22.3)\n",
      "Requirement already satisfied: pyyaml>=5.1 in c:\\users\\asus\\appdata\\local\\programs\\python\\python310\\lib\\site-packages (from transformers) (6.0)\n",
      "Requirement already satisfied: tokenizers!=0.11.3,<0.13,>=0.11.1 in c:\\users\\asus\\appdata\\local\\programs\\python\\python310\\lib\\site-packages (from transformers) (0.12.1)\n",
      "Requirement already satisfied: requests in c:\\users\\asus\\appdata\\local\\programs\\python\\python310\\lib\\site-packages (from transformers) (2.27.1)\n",
      "Requirement already satisfied: regex!=2019.12.17 in c:\\users\\asus\\appdata\\local\\programs\\python\\python310\\lib\\site-packages (from transformers) (2022.3.15)\n",
      "Requirement already satisfied: huggingface-hub<1.0,>=0.1.0 in c:\\users\\asus\\appdata\\local\\programs\\python\\python310\\lib\\site-packages (from transformers) (0.5.1)\n",
      "Requirement already satisfied: sacremoses in c:\\users\\asus\\appdata\\local\\programs\\python\\python310\\lib\\site-packages (from transformers) (0.0.49)\n",
      "Requirement already satisfied: typing-extensions>=3.7.4.3 in c:\\users\\asus\\appdata\\local\\programs\\python\\python310\\lib\\site-packages (from huggingface-hub<1.0,>=0.1.0->transformers) (4.2.0)\n",
      "Requirement already satisfied: pyparsing!=3.0.5,>=2.0.2 in c:\\users\\asus\\appdata\\local\\programs\\python\\python310\\lib\\site-packages (from packaging>=20.0->transformers) (3.0.8)\n",
      "Requirement already satisfied: colorama in c:\\users\\asus\\appdata\\local\\programs\\python\\python310\\lib\\site-packages (from tqdm>=4.27->transformers) (0.4.4)\n",
      "Requirement already satisfied: idna<4,>=2.5 in c:\\users\\asus\\appdata\\local\\programs\\python\\python310\\lib\\site-packages (from requests->transformers) (3.3)\n",
      "Requirement already satisfied: certifi>=2017.4.17 in c:\\users\\asus\\appdata\\local\\programs\\python\\python310\\lib\\site-packages (from requests->transformers) (2021.10.8)\n",
      "Requirement already satisfied: charset-normalizer~=2.0.0 in c:\\users\\asus\\appdata\\local\\programs\\python\\python310\\lib\\site-packages (from requests->transformers) (2.0.12)\n",
      "Requirement already satisfied: urllib3<1.27,>=1.21.1 in c:\\users\\asus\\appdata\\local\\programs\\python\\python310\\lib\\site-packages (from requests->transformers) (1.26.9)\n",
      "Requirement already satisfied: click in c:\\users\\asus\\appdata\\local\\programs\\python\\python310\\lib\\site-packages (from sacremoses->transformers) (8.1.2)\n",
      "Requirement already satisfied: joblib in c:\\users\\asus\\appdata\\local\\programs\\python\\python310\\lib\\site-packages (from sacremoses->transformers) (1.1.0)\n",
      "Requirement already satisfied: six in c:\\users\\asus\\appdata\\local\\programs\\python\\python310\\lib\\site-packages (from sacremoses->transformers) (1.16.0)\n",
      "Note: you may need to restart the kernel to use updated packages.\n"
     ]
    }
   ],
   "source": [
    "pip install transformers"
   ]
  },
  {
   "cell_type": "markdown",
   "id": "italic-speed",
   "metadata": {},
   "source": [
    "importing components from transformers"
   ]
  },
  {
   "cell_type": "code",
   "execution_count": 2,
   "id": "velvet-evening",
   "metadata": {},
   "outputs": [],
   "source": [
    "from transformers import PegasusTokenizer,PegasusForConditionalGeneration\n",
    "from bs4 import BeautifulSoup\n",
    "import requests"
   ]
  },
  {
   "cell_type": "markdown",
   "id": "geological-imperial",
   "metadata": {},
   "source": [
    "//Setting up summarization model"
   ]
  },
  {
   "cell_type": "code",
   "execution_count": 3,
   "id": "worthy-barrier",
   "metadata": {},
   "outputs": [
    {
     "name": "stdout",
     "output_type": "stream",
     "text": [
      "Requirement already satisfied: sentencepiece in c:\\users\\asus\\appdata\\local\\programs\\python\\python310\\lib\\site-packages (0.1.96)\n",
      "Note: you may need to restart the kernel to use updated packages.\n"
     ]
    }
   ],
   "source": [
    " pip install sentencepiece"
   ]
  },
  {
   "cell_type": "code",
   "execution_count": 4,
   "id": "wicked-tribune",
   "metadata": {},
   "outputs": [],
   "source": [
    "model_name = \"human-centered-summarization/financial-summarization-pegasus\"\n",
    "tokenizer = PegasusTokenizer.from_pretrained(model_name)\n",
    "model = PegasusForConditionalGeneration.from_pretrained(model_name)\n",
    "## tokenizer is a translator it just decodes it for our model."
   ]
  },
  {
   "cell_type": "markdown",
   "id": "emerging-christmas",
   "metadata": {},
   "source": [
    "# summarizing data from  single article\n"
   ]
  },
  {
   "cell_type": "code",
   "execution_count": 5,
   "id": "compact-rendering",
   "metadata": {},
   "outputs": [],
   "source": [
    "url = \"https://www.cnbctv18.com/market/stocks/stock-market-news-live-updates-nifty50-bse-sensex-hcl-tech-nestle-lt-tech-tata-elxsi-brent-crude-bitcoin-gold-price-13222162.htm\"\n",
    "r = requests.get(url)\n",
    "soup = BeautifulSoup(r.text, 'html.parser')\n",
    "## processing the output through beatifulSoup\n",
    "paragraphs = soup.find_all('p')\n",
    "## finding the paragraphs"
   ]
  },
  {
   "cell_type": "code",
   "execution_count": 6,
   "id": "c5f8a06b",
   "metadata": {},
   "outputs": [
    {
     "data": {
      "text/plain": [
       "\"Stock Market Highlights: Indian equity benchmarks BSE Sensex and NSE Nifty50 continued to rise for a second straight day on Thursday led by gains across IT stocks and heavyweights Reliance Industries, Infosys and the HDFC twins. Broader markets also strengthened, with the Nifty Midcap 100 rising 1.1 percent and its smallcap counterpart 1.6 percent. HCL Tech shares rose 0.9 percent as investors awaited the company's financial results.\\xa0Globally, news flow on the Russia-Ukraine war and rising COVID infections in parts of the world remained on investors' radar.\""
      ]
     },
     "execution_count": 6,
     "metadata": {},
     "output_type": "execute_result"
    }
   ],
   "source": [
    "paragraphs[0].text"
   ]
  },
  {
   "cell_type": "code",
   "execution_count": 7,
   "id": "e5150d86",
   "metadata": {},
   "outputs": [],
   "source": [
    "text = [paragraph.text for paragraph in paragraphs]\\\n",
    "##text scrapping\n",
    "words = ' '.join(text).split(' ')[:200]\n",
    "## taking 300 words\n",
    "ARTICLE = ' '.join(words)\n",
    "## joining 300 words"
   ]
  },
  {
   "cell_type": "code",
   "execution_count": 8,
   "id": "107272b2",
   "metadata": {},
   "outputs": [
    {
     "data": {
      "text/plain": [
       "'Stock Market Highlights: Indian equity benchmarks BSE Sensex and NSE Nifty50 continued to rise for a second straight day on Thursday led by gains across IT stocks and heavyweights Reliance Industries, Infosys and the HDFC twins. Broader markets also strengthened, with the Nifty Midcap 100 rising 1.1 percent and its smallcap counterpart 1.6 percent. HCL Tech shares rose 0.9 percent as investors awaited the company\\'s financial results.\\xa0Globally, news flow on the Russia-Ukraine war and rising COVID infections in parts of the world remained on investors\\' radar. Thank you, readers! That\\'s all from CNBCTV18.com\\'s live market coverage on April 21, 2022. Stay tuned for other updates on our website:\\xa0CNBCTV18.com. You can follow us on Twitter:\\xa0@CNBCTV18Live\\xa0@CNBCTV18News And on\\xa0Facebook,\\xa0LinkedIn,\\xa0Instagram\\xa0and\\xa0Telegram Download our\\xa0mobile app\\xa0for Android and iOS platforms Catch latest from CNBCTV18.com\\'s coverage of Russia-Ukraine war Remain bullish on\\xa0Bharti\\xa0Airtel:\\xa0Ambareesh\\xa0Baliga\\xa0 Market expert\\xa0Ambareesh\\xa0Baliga\\xa0remains bullish on the telecom space, especially\\xa0Bharti\\xa0Airtel. He expects the company\\'s\\xa0average revenue per user (ARPU) rising going forward. \"Even the CEO had mentioned that the\\xa0ARPU\\xa0should move up to levels of about Rs 200. They are\\xa0looking at nearly Rs 300 in the slightly\\xa0longer term. With every one rupee rise, the sort of addition to bottom-line is humongous for these telecom companies. Any sort of a correction'"
      ]
     },
     "execution_count": 8,
     "metadata": {},
     "output_type": "execute_result"
    }
   ],
   "source": [
    "ARTICLE"
   ]
  },
  {
   "cell_type": "code",
   "execution_count": 9,
   "id": "99cf05ea",
   "metadata": {},
   "outputs": [],
   "source": [
    "input_ids = tokenizer.encode(ARTICLE, return_tensors='pt')\n",
    "output = model.generate(input_ids, max_length=100, num_beams=5, early_stopping=True)\n",
    "summary = tokenizer.decode(output[0], skip_special_tokens=True)"
   ]
  },
  {
   "cell_type": "code",
   "execution_count": 10,
   "id": "7d8e4f45",
   "metadata": {},
   "outputs": [
    {
     "data": {
      "text/plain": [
       "tensor([[ 6018,  2863, 26898,   151,  2128,  4714, 23680, 42174, 71428,   111,\n",
       "         55111, 46420,  4442,  2059,   112,  2423,   118,   114,   453,  1870,\n",
       "           242,   124,  1789,  1358,   141,  6602,   482,  1797,  5446,   111,\n",
       "         64395, 30306,  9816,   108, 64638,   111,   109, 57049, 15103,   107,\n",
       "         12897,   420,  2099,   163, 17465,   108,   122,   109, 46420,  6411,\n",
       "         10365,  1061,  4220, 12474,   837,   111,   203,   360, 10365, 18160,\n",
       "         13264,   837,   107, 76980,  4792,  2853,  3947, 21544,   837,   130,\n",
       "          2714, 24809,   109,   301,   131,   116,   748,   602,   107, 65948,\n",
       "           108,   990,  1971,   124,   109,  3260,   121, 64906,  1795,   111,\n",
       "          4220,  4585, 44078,  7899,   115,   972,   113,   109,   278,  4615,\n",
       "           124,  2714,   131, 10437,   107,  1860,   119,   108,  2557,   147,\n",
       "           485,   131,   116,   149,   135, 35467,  6103, 17631,   363,   131,\n",
       "           116,   498,   407,  1771,   124,   960,  7781, 38019,  6363,  7228,\n",
       "           118,   176,  2340,   124,   150,   387,   151, 35467,  6103, 17631,\n",
       "           363,   107,   226,   137,   857,   214,   124,  2277,   151,  2650,\n",
       "           529, 38986,  6103,  4876, 11783,  2650,   529, 38986,  6103,  4876,\n",
       "         12737,   325,   124,  1208,   108,  9015,   108,  3103,   111, 55049,\n",
       "          2351,   150,   944,   998,   118,  2197,   111,  4519,  3232, 18887,\n",
       "           807,   135, 35467,  6103, 17631,   363,   131,   116,  1771,   113,\n",
       "          3260,   121, 64906,  1795, 44074, 24633,   124, 55634, 35196,   151,\n",
       "         66666,   216, 12694, 11449,  6438,  2863,  1766, 66666,   216, 12694,\n",
       "         11449,  6438,  2085, 24633,   124,   109, 19375,   501,   108,   704,\n",
       "         55634, 35196,   107,   285, 10118,   109,   301,   131,   116,  1077,\n",
       "          2563,   446,   862,   143, 11859, 26100,   158,  4220,   313,   782,\n",
       "           107,   198,  3764,   109,  2792,   196,  2137,   120,   109,  6847,\n",
       "         26100,   246,   696,   164,   112,  1099,   113,   160,  4381,  2416,\n",
       "           107,   322,   127,   383,   134,  1517,  4381,  3251,   115,   109,\n",
       "          2237,   895,  1286,   107,   441,   290,   156, 50981,  2423,   108,\n",
       "           109,  1851,   113,   663,   112,  1472,   121,  1803,   117, 80308,\n",
       "           118,   219, 19375,   524,   107,  2533,  1851,   113,   114, 10195,\n",
       "             1]])"
      ]
     },
     "execution_count": 10,
     "metadata": {},
     "output_type": "execute_result"
    }
   ],
   "source": [
    "input_ids"
   ]
  },
  {
   "cell_type": "code",
   "execution_count": 11,
   "id": "1979f0f4",
   "metadata": {},
   "outputs": [
    {
     "data": {
      "text/plain": [
       "tensor([[    0,  3260,   121, 64906,  1795,   108,  4220,  4585,  7899,   115,\n",
       "           972,   113,   109,   278,  1686,   124,  2714,   131, 10437,   107,\n",
       "             1]])"
      ]
     },
     "execution_count": 11,
     "metadata": {},
     "output_type": "execute_result"
    }
   ],
   "source": [
    "output"
   ]
  },
  {
   "cell_type": "code",
   "execution_count": 12,
   "id": "5cd49c72",
   "metadata": {},
   "outputs": [
    {
     "data": {
      "text/plain": [
       "\"Russia-Ukraine war, rising CO infections in parts of the world remain on investors' radar.\""
      ]
     },
     "execution_count": 12,
     "metadata": {},
     "output_type": "execute_result"
    }
   ],
   "source": [
    "summary"
   ]
  },
  {
   "cell_type": "markdown",
   "id": "e8321780",
   "metadata": {},
   "source": [
    "Building news and sentiment pipeline (getting urls)"
   ]
  },
  {
   "cell_type": "code",
   "execution_count": 13,
   "id": "7b02ebc8",
   "metadata": {},
   "outputs": [],
   "source": [
    "monitered_tickers = ['gme','tsla','btc']"
   ]
  },
  {
   "cell_type": "markdown",
   "id": "da0c0493",
   "metadata": {},
   "source": [
    "automating search using beautiful soup"
   ]
  },
  {
   "cell_type": "code",
   "execution_count": 14,
   "id": "31ac3365",
   "metadata": {},
   "outputs": [],
   "source": [
    "def search_for_stock_news_urls(ticker):\n",
    "    search_url = \"https://www.google.com/search?q=yahoo+finance+{}&tbm=nws\".format(ticker)\n",
    "    r = requests.get(search_url)\n",
    "    soup = BeautifulSoup(r.text, 'html.parser')\n",
    "    atags = soup.find_all('a')\n",
    "    hrefs = [link['href'] for link in atags]\n",
    "    return hrefs "
   ]
  },
  {
   "cell_type": "code",
   "execution_count": 15,
   "id": "eae978a0",
   "metadata": {},
   "outputs": [],
   "source": [
    " search_url = \"https://www.google.com/search?q=yahoo+finance+{}&tbm=nws\".format('gme')"
   ]
  },
  {
   "cell_type": "code",
   "execution_count": 16,
   "id": "16e37820",
   "metadata": {},
   "outputs": [
    {
     "data": {
      "text/plain": [
       "'https://www.google.com/search?q=yahoo+finance+gme&tbm=nws'"
      ]
     },
     "execution_count": 16,
     "metadata": {},
     "output_type": "execute_result"
    }
   ],
   "source": [
    "search_url"
   ]
  },
  {
   "cell_type": "code",
   "execution_count": 17,
   "id": "02dc8263",
   "metadata": {},
   "outputs": [],
   "source": [
    "monitored_tickers = ['GME', 'TSLA', 'BTC']"
   ]
  },
  {
   "cell_type": "code",
   "execution_count": 18,
   "id": "bc2d2151",
   "metadata": {},
   "outputs": [
    {
     "data": {
      "text/plain": [
       "{'GME': ['/?sa=X&ved=0ahUKEwjm4OCM7Zr4AhXhCLkGHY2MASwQOwgC',\n",
       "  '/search?q=yahoo+finance+GME&tbm=nws&ie=UTF-8&gbv=1&sei=3wKfYqb1I-GR5OUPjZmG4AI',\n",
       "  '/search?q=yahoo+finance+GME&ie=UTF-8&source=lnms&sa=X&ved=0ahUKEwjm4OCM7Zr4AhXhCLkGHY2MASwQ_AUIBSgA',\n",
       "  '/search?q=yahoo+finance+GME&ie=UTF-8&tbm=bks&source=lnms&sa=X&ved=0ahUKEwjm4OCM7Zr4AhXhCLkGHY2MASwQ_AUIBygC',\n",
       "  '/search?q=yahoo+finance+GME&ie=UTF-8&tbm=shop&source=lnms&sa=X&ved=0ahUKEwjm4OCM7Zr4AhXhCLkGHY2MASwQ_AUICCgD',\n",
       "  '/search?q=yahoo+finance+GME&ie=UTF-8&tbm=isch&source=lnms&sa=X&ved=0ahUKEwjm4OCM7Zr4AhXhCLkGHY2MASwQ_AUICSgE',\n",
       "  'https://maps.google.com/maps?q=yahoo+finance+GME&um=1&ie=UTF-8&sa=X&ved=0ahUKEwjm4OCM7Zr4AhXhCLkGHY2MASwQ_AUICigF',\n",
       "  '/search?q=yahoo+finance+GME&ie=UTF-8&tbm=vid&source=lnms&sa=X&ved=0ahUKEwjm4OCM7Zr4AhXhCLkGHY2MASwQ_AUICygG',\n",
       "  '/advanced_search',\n",
       "  '/search?q=yahoo+finance+GME&ie=UTF-8&tbm=nws&source=lnt&tbs=qdr:h&sa=X&ved=0ahUKEwjm4OCM7Zr4AhXhCLkGHY2MASwQpwUIDQ',\n",
       "  '/search?q=yahoo+finance+GME&ie=UTF-8&tbm=nws&source=lnt&tbs=qdr:d&sa=X&ved=0ahUKEwjm4OCM7Zr4AhXhCLkGHY2MASwQpwUIDg',\n",
       "  '/search?q=yahoo+finance+GME&ie=UTF-8&tbm=nws&source=lnt&tbs=qdr:w&sa=X&ved=0ahUKEwjm4OCM7Zr4AhXhCLkGHY2MASwQpwUIDw',\n",
       "  '/search?q=yahoo+finance+GME&ie=UTF-8&tbm=nws&source=lnt&tbs=qdr:m&sa=X&ved=0ahUKEwjm4OCM7Zr4AhXhCLkGHY2MASwQpwUIEA',\n",
       "  '/search?q=yahoo+finance+GME&ie=UTF-8&tbm=nws&source=lnt&tbs=qdr:y&sa=X&ved=0ahUKEwjm4OCM7Zr4AhXhCLkGHY2MASwQpwUIEQ',\n",
       "  '/search?q=yahoo+finance+GME&ie=UTF-8&tbm=nws&source=lnt&tbs=ar:1&sa=X&ved=0ahUKEwjm4OCM7Zr4AhXhCLkGHY2MASwQpwUIEg',\n",
       "  '/search?q=yahoo+finance+GME&ie=UTF-8&tbm=nws&source=lnt&tbs=sbd:1&sa=X&ved=0ahUKEwjm4OCM7Zr4AhXhCLkGHY2MASwQpwUIFA',\n",
       "  '/url?q=https://finance.yahoo.com/news/gamestop-reports-first-quarter-fiscal-200500519.html&sa=U&ved=2ahUKEwjm4OCM7Zr4AhXhCLkGHY2MASwQxfQBegQIAxAC&usg=AOvVaw34uClV0LjjsMvcAAT1GJkh',\n",
       "  '/url?q=https://finance.yahoo.com/news/gamestop-launches-wallet-cryptocurrencies-nfts-110000300.html&sa=U&ved=2ahUKEwjm4OCM7Zr4AhXhCLkGHY2MASwQxfQBegQICBAC&usg=AOvVaw1Lc9pxzrjg14sTOzBnnyxO',\n",
       "  '/url?q=https://money.yahoo.com/video/market-check-stocks-gain-meme-192143662.html&sa=U&ved=2ahUKEwjm4OCM7Zr4AhXhCLkGHY2MASwQxfQBegQICRAC&usg=AOvVaw1xDX0aRK87XNOSoT3tk34t',\n",
       "  '/url?q=https://finance.yahoo.com/news/melvin-capital-shutdown-reddit-gamestop-meme-stock-134015125.html&sa=U&ved=2ahUKEwjm4OCM7Zr4AhXhCLkGHY2MASwQxfQBegQIBxAC&usg=AOvVaw1vJuWjpQ1-lo8DiKi3tKwE',\n",
       "  '/url?q=https://finance.yahoo.com/news/stock-market-news-live-updates-may-31-2022-111708003.html&sa=U&ved=2ahUKEwjm4OCM7Zr4AhXhCLkGHY2MASwQxfQBegQIAhAC&usg=AOvVaw3LNwGJq6hp9qE3SUU7f1QN',\n",
       "  '/url?q=https://finance.yahoo.com/news/gamestop-launches-beta-version-non-092459001.html&sa=U&ved=2ahUKEwjm4OCM7Zr4AhXhCLkGHY2MASwQxfQBegQIBRAC&usg=AOvVaw05l8dERyV6EPjFTzMSp-gy',\n",
       "  '/url?q=https://finance.yahoo.com/news/gamestop-reports-wider-q1-losses-164029882.html&sa=U&ved=2ahUKEwjm4OCM7Zr4AhXhCLkGHY2MASwQxfQBegQIBBAC&usg=AOvVaw2xndjfXyOKLrqk6j6KjC_a',\n",
       "  '/url?q=https://www.investing.com/analysis/gamestop-stock-sees-11-surge-despite-quarterly-los-200625313&sa=U&ved=2ahUKEwjm4OCM7Zr4AhXhCLkGHY2MASwQxfQBegQIABAC&usg=AOvVaw31vO44kWyWZD5YoPsXA9fU',\n",
       "  '/url?q=https://www.shacknews.com/article/130624/gamestop-gme-q1-2022-eps-estimates-revenue&sa=U&ved=2ahUKEwjm4OCM7Zr4AhXhCLkGHY2MASwQxfQBegQIBhAC&usg=AOvVaw3aw4dn9zcOrq2klRBg2ERq',\n",
       "  '/url?q=https://finance.yahoo.com/news/bear-day-gamestop-gme-110011643.html&sa=U&ved=2ahUKEwjm4OCM7Zr4AhXhCLkGHY2MASwQxfQBegQIARAC&usg=AOvVaw2ran00T-w18QtfPHS0-PZY',\n",
       "  '/search?q=yahoo+finance+GME&ie=UTF-8&tbm=nws&ei=3wKfYqb1I-GR5OUPjZmG4AI&start=10&sa=N',\n",
       "  '/url?q=https://support.google.com/websearch%3Fp%3Dws_settings_location%26hl%3Den-IN&sa=U&ved=0ahUKEwjm4OCM7Zr4AhXhCLkGHY2MASwQty4IUw&usg=AOvVaw3qIXNKvIhsSQD0oIcvijrV',\n",
       "  '/url?q=https://accounts.google.com/ServiceLogin%3Fcontinue%3Dhttps://www.google.com/search%253Fq%253Dyahoo%252Bfinance%252BGME%2526tbm%253Dnws%26hl%3Den&sa=U&ved=0ahUKEwjm4OCM7Zr4AhXhCLkGHY2MASwQxs8CCFQ&usg=AOvVaw3eR-hkzJOppBmR1836v2LY',\n",
       "  'https://www.google.com/preferences?hl=en-IN&fg=1&sa=X&ved=0ahUKEwjm4OCM7Zr4AhXhCLkGHY2MASwQ5fUCCFU',\n",
       "  'https://policies.google.com/privacy?hl=en-IN&fg=1',\n",
       "  'https://policies.google.com/terms?hl=en-IN&fg=1'],\n",
       " 'TSLA': ['/?sa=X&ved=0ahUKEwiJyqmN7Zr4AhVjA9QKHWt4AB0QOwgC',\n",
       "  '/search?q=yahoo+finance+TSLA&tbm=nws&ie=UTF-8&gbv=1&sei=4AKfYonaL-OG0Abr8IHoAQ',\n",
       "  '/search?q=yahoo+finance+TSLA&ie=UTF-8&source=lnms&sa=X&ved=0ahUKEwiJyqmN7Zr4AhVjA9QKHWt4AB0Q_AUIBSgA',\n",
       "  '/search?q=yahoo+finance+TSLA&ie=UTF-8&tbm=bks&source=lnms&sa=X&ved=0ahUKEwiJyqmN7Zr4AhVjA9QKHWt4AB0Q_AUIBygC',\n",
       "  '/search?q=yahoo+finance+TSLA&ie=UTF-8&tbm=shop&source=lnms&sa=X&ved=0ahUKEwiJyqmN7Zr4AhVjA9QKHWt4AB0Q_AUICCgD',\n",
       "  '/search?q=yahoo+finance+TSLA&ie=UTF-8&tbm=isch&source=lnms&sa=X&ved=0ahUKEwiJyqmN7Zr4AhVjA9QKHWt4AB0Q_AUICSgE',\n",
       "  'https://maps.google.com/maps?q=yahoo+finance+TSLA&um=1&ie=UTF-8&sa=X&ved=0ahUKEwiJyqmN7Zr4AhVjA9QKHWt4AB0Q_AUICigF',\n",
       "  '/search?q=yahoo+finance+TSLA&ie=UTF-8&tbm=vid&source=lnms&sa=X&ved=0ahUKEwiJyqmN7Zr4AhVjA9QKHWt4AB0Q_AUICygG',\n",
       "  '/advanced_search',\n",
       "  '/search?q=yahoo+finance+TSLA&ie=UTF-8&tbm=nws&source=lnt&tbs=qdr:h&sa=X&ved=0ahUKEwiJyqmN7Zr4AhVjA9QKHWt4AB0QpwUIDQ',\n",
       "  '/search?q=yahoo+finance+TSLA&ie=UTF-8&tbm=nws&source=lnt&tbs=qdr:d&sa=X&ved=0ahUKEwiJyqmN7Zr4AhVjA9QKHWt4AB0QpwUIDg',\n",
       "  '/search?q=yahoo+finance+TSLA&ie=UTF-8&tbm=nws&source=lnt&tbs=qdr:w&sa=X&ved=0ahUKEwiJyqmN7Zr4AhVjA9QKHWt4AB0QpwUIDw',\n",
       "  '/search?q=yahoo+finance+TSLA&ie=UTF-8&tbm=nws&source=lnt&tbs=qdr:m&sa=X&ved=0ahUKEwiJyqmN7Zr4AhVjA9QKHWt4AB0QpwUIEA',\n",
       "  '/search?q=yahoo+finance+TSLA&ie=UTF-8&tbm=nws&source=lnt&tbs=qdr:y&sa=X&ved=0ahUKEwiJyqmN7Zr4AhVjA9QKHWt4AB0QpwUIEQ',\n",
       "  '/search?q=yahoo+finance+TSLA&ie=UTF-8&tbm=nws&source=lnt&tbs=ar:1&sa=X&ved=0ahUKEwiJyqmN7Zr4AhVjA9QKHWt4AB0QpwUIEg',\n",
       "  '/search?q=yahoo+finance+TSLA&ie=UTF-8&tbm=nws&source=lnt&tbs=sbd:1&sa=X&ved=0ahUKEwiJyqmN7Zr4AhVjA9QKHWt4AB0QpwUIFA',\n",
       "  '/url?q=https://finance.yahoo.com/news/elon-musk-backpedals-tesla-workforce-150302085.html&sa=U&ved=2ahUKEwiJyqmN7Zr4AhVjA9QKHWt4AB0QxfQBegQIAxAC&usg=AOvVaw1GWQZlCWsMpxDWmKNyO0Js',\n",
       "  '/url?q=https://finance.yahoo.com/news/elon-musk-tells-space-x-and-tesla-workers-that-they-must-return-to-the-office-full-time-223747961.html&sa=U&ved=2ahUKEwiJyqmN7Zr4AhVjA9QKHWt4AB0QxfQBegQICBAC&usg=AOvVaw37DueAJ4VCSzCMngN0_cj0',\n",
       "  '/url?q=https://ca.finance.yahoo.com/news/emailing-employees-job-cuts-tesla-013822476.html&sa=U&ved=2ahUKEwiJyqmN7Zr4AhVjA9QKHWt4AB0QxfQBegQICRAC&usg=AOvVaw2Yt0CeamoGoqCfh3jOOVqC',\n",
       "  '/url?q=https://finance.yahoo.com/news/tesla-inc-tsla-attracting-investor-130001614.html&sa=U&ved=2ahUKEwiJyqmN7Zr4AhVjA9QKHWt4AB0QxfQBegQIBxAC&usg=AOvVaw00MvQ7KEBqWVsKW_r3Ln46',\n",
       "  '/url?q=https://finance.yahoo.com/news/tesla-wont-set-manufacturing-plant-170747894.html&sa=U&ved=2ahUKEwiJyqmN7Zr4AhVjA9QKHWt4AB0QxfQBegQIBRAC&usg=AOvVaw3MBRdbOwek5qZ4NQTYr8QL',\n",
       "  '/url?q=https://finance.yahoo.com/video/growth-stocks-tesla-rebound-inflation-143354706.html&sa=U&ved=2ahUKEwiJyqmN7Zr4AhVjA9QKHWt4AB0QxfQBegQIAhAC&usg=AOvVaw2uR0L5_Gz9jHo73VqXmkIn',\n",
       "  '/url?q=https://finance.yahoo.com/news/luminar-hires-execs-apple-nvidia-143020337.html&sa=U&ved=2ahUKEwiJyqmN7Zr4AhVjA9QKHWt4AB0QxfQBegQIABAC&usg=AOvVaw1ePEpYW_VajXpObORx6O3i',\n",
       "  '/url?q=https://finance.yahoo.com/news/tesla-plans-supercharger-station-24-154045486.html&sa=U&ved=2ahUKEwiJyqmN7Zr4AhVjA9QKHWt4AB0QxfQBegQIBBAC&usg=AOvVaw2MqdajFQ-xDZPn7s9NCYt8',\n",
       "  '/url?q=https://au.finance.yahoo.com/news/microsoft-surprise-hits-p-500-153726125.html&sa=U&ved=2ahUKEwiJyqmN7Zr4AhVjA9QKHWt4AB0QxfQBegQIARAC&usg=AOvVaw3x4cOfAzwE0GSgWQomw8SH',\n",
       "  '/url?q=https://finance.yahoo.com/news/tesla-insurance-worth-price-plus-224700704.html&sa=U&ved=2ahUKEwiJyqmN7Zr4AhVjA9QKHWt4AB0QxfQBegQIBhAC&usg=AOvVaw00Yx6uDvV6x7hnKzucnb2V',\n",
       "  '/search?q=yahoo+finance+TSLA&ie=UTF-8&tbm=nws&ei=4AKfYonaL-OG0Abr8IHoAQ&start=10&sa=N',\n",
       "  '/url?q=https://support.google.com/websearch%3Fp%3Dws_settings_location%26hl%3Den-IN&sa=U&ved=0ahUKEwiJyqmN7Zr4AhVjA9QKHWt4AB0Qty4IUw&usg=AOvVaw3MZ-X_6tPuKthbmTBlLM7U',\n",
       "  '/url?q=https://accounts.google.com/ServiceLogin%3Fcontinue%3Dhttps://www.google.com/search%253Fq%253Dyahoo%252Bfinance%252BTSLA%2526tbm%253Dnws%26hl%3Den&sa=U&ved=0ahUKEwiJyqmN7Zr4AhVjA9QKHWt4AB0Qxs8CCFQ&usg=AOvVaw2CHg0YiM2RKu_36KEIkF-1',\n",
       "  'https://www.google.com/preferences?hl=en-IN&fg=1&sa=X&ved=0ahUKEwiJyqmN7Zr4AhVjA9QKHWt4AB0Q5fUCCFU',\n",
       "  'https://policies.google.com/privacy?hl=en-IN&fg=1',\n",
       "  'https://policies.google.com/terms?hl=en-IN&fg=1'],\n",
       " 'BTC': ['/?sa=X&ved=0ahUKEwjJ14CO7Zr4AhUWJrkGHY7WB2QQOwgC',\n",
       "  '/search?q=yahoo+finance+BTC&tbm=nws&ie=UTF-8&gbv=1&sei=4gKfYsneDJbM5OUPjq2foAY',\n",
       "  '/search?q=yahoo+finance+BTC&ie=UTF-8&source=lnms&sa=X&ved=0ahUKEwjJ14CO7Zr4AhUWJrkGHY7WB2QQ_AUIBSgA',\n",
       "  '/search?q=yahoo+finance+BTC&ie=UTF-8&tbm=shop&source=lnms&sa=X&ved=0ahUKEwjJ14CO7Zr4AhUWJrkGHY7WB2QQ_AUIBygC',\n",
       "  '/search?q=yahoo+finance+BTC&ie=UTF-8&tbm=isch&source=lnms&sa=X&ved=0ahUKEwjJ14CO7Zr4AhUWJrkGHY7WB2QQ_AUICCgD',\n",
       "  'https://maps.google.com/maps?q=yahoo+finance+BTC&um=1&ie=UTF-8&sa=X&ved=0ahUKEwjJ14CO7Zr4AhUWJrkGHY7WB2QQ_AUICSgE',\n",
       "  '/search?q=yahoo+finance+BTC&ie=UTF-8&tbm=vid&source=lnms&sa=X&ved=0ahUKEwjJ14CO7Zr4AhUWJrkGHY7WB2QQ_AUICigF',\n",
       "  '/search?q=yahoo+finance+BTC&ie=UTF-8&tbm=bks&source=lnms&sa=X&ved=0ahUKEwjJ14CO7Zr4AhUWJrkGHY7WB2QQ_AUICygG',\n",
       "  '/advanced_search',\n",
       "  '/search?q=yahoo+finance+BTC&ie=UTF-8&tbm=nws&source=lnt&tbs=qdr:h&sa=X&ved=0ahUKEwjJ14CO7Zr4AhUWJrkGHY7WB2QQpwUIDQ',\n",
       "  '/search?q=yahoo+finance+BTC&ie=UTF-8&tbm=nws&source=lnt&tbs=qdr:d&sa=X&ved=0ahUKEwjJ14CO7Zr4AhUWJrkGHY7WB2QQpwUIDg',\n",
       "  '/search?q=yahoo+finance+BTC&ie=UTF-8&tbm=nws&source=lnt&tbs=qdr:w&sa=X&ved=0ahUKEwjJ14CO7Zr4AhUWJrkGHY7WB2QQpwUIDw',\n",
       "  '/search?q=yahoo+finance+BTC&ie=UTF-8&tbm=nws&source=lnt&tbs=qdr:m&sa=X&ved=0ahUKEwjJ14CO7Zr4AhUWJrkGHY7WB2QQpwUIEA',\n",
       "  '/search?q=yahoo+finance+BTC&ie=UTF-8&tbm=nws&source=lnt&tbs=qdr:y&sa=X&ved=0ahUKEwjJ14CO7Zr4AhUWJrkGHY7WB2QQpwUIEQ',\n",
       "  '/search?q=yahoo+finance+BTC&ie=UTF-8&tbm=nws&source=lnt&tbs=ar:1&sa=X&ved=0ahUKEwjJ14CO7Zr4AhUWJrkGHY7WB2QQpwUIEg',\n",
       "  '/search?q=yahoo+finance+BTC&ie=UTF-8&tbm=nws&source=lnt&tbs=sbd:1&sa=X&ved=0ahUKEwjJ14CO7Zr4AhUWJrkGHY7WB2QQpwUIFA',\n",
       "  '/url?q=https://finance.yahoo.com/news/bitcoin-set-witness-another-dip-191331432.html&sa=U&ved=2ahUKEwjJ14CO7Zr4AhUWJrkGHY7WB2QQxfQBegQIAhAC&usg=AOvVaw3TcxEtgito2kH8O46XIqeV',\n",
       "  '/url?q=https://ca.finance.yahoo.com/news/cryptoverse-early-birds-betting-bitcoins-051710967.html&sa=U&ved=2ahUKEwjJ14CO7Zr4AhUWJrkGHY7WB2QQxfQBegQIBxAC&usg=AOvVaw3NtAMSY7ssETR_87PryeTa',\n",
       "  '/url?q=https://finance.yahoo.com/news/3iq-launches-3iq-coinshares-bitcoin-012100250.html&sa=U&ved=2ahUKEwjJ14CO7Zr4AhUWJrkGHY7WB2QQxfQBegQICRAC&usg=AOvVaw3upaGKRckPove0tpn0wYNc',\n",
       "  '/url?q=https://finance.yahoo.com/news/bitcoin-gains-over-5-31-201155806.html&sa=U&ved=2ahUKEwjJ14CO7Zr4AhUWJrkGHY7WB2QQxfQBegQICBAC&usg=AOvVaw0BE7GStacpWxqe6vYZ3-4u',\n",
       "  '/url?q=https://finance.yahoo.com/news/inflation-affect-cryptocurrencies-bitcoin-ethereum-171253075.html&sa=U&ved=2ahUKEwjJ14CO7Zr4AhUWJrkGHY7WB2QQxfQBegQIAxAC&usg=AOvVaw0-p31_NB0eZNRahB57CfMH',\n",
       "  '/url?q=https://finance.yahoo.com/news/bitcoin-btc-returns-30-000-011129376.html&sa=U&ved=2ahUKEwjJ14CO7Zr4AhUWJrkGHY7WB2QQxfQBegQIBRAC&usg=AOvVaw3S__8d1v9b3QbCWMAfXMzd',\n",
       "  '/url?q=https://money.yahoo.com/crypto-investors-ditching-tokens-for-bitcoin-201812266.html&sa=U&ved=2ahUKEwjJ14CO7Zr4AhUWJrkGHY7WB2QQxfQBegQIARAC&usg=AOvVaw0qqTnYn93w2cIiSzondHxL',\n",
       "  '/url?q=https://finance.yahoo.com/news/ethereum-founder-criticizes-york-bitcoin-164552530.html&sa=U&ved=2ahUKEwjJ14CO7Zr4AhUWJrkGHY7WB2QQxfQBegQIABAC&usg=AOvVaw2rmLMRtY4r7dZ53bC1uL4F',\n",
       "  '/url?q=https://ca.finance.yahoo.com/news/most-bitcoin-pandemic-gains-came-174704100.html&sa=U&ved=2ahUKEwjJ14CO7Zr4AhUWJrkGHY7WB2QQxfQBegQIBhAC&usg=AOvVaw3C8iZ4IPMyTWK1IjZik74L',\n",
       "  '/url?q=https://uk.finance.yahoo.com/news/sourceless-joins-bitcoin-bucharest-2022-110000777.html&sa=U&ved=2ahUKEwjJ14CO7Zr4AhUWJrkGHY7WB2QQxfQBegQIBBAC&usg=AOvVaw21-9ToKREjL-N14eSsSpVH',\n",
       "  '/search?q=yahoo+finance+BTC&ie=UTF-8&tbm=nws&ei=4gKfYsneDJbM5OUPjq2foAY&start=10&sa=N',\n",
       "  '/url?q=https://support.google.com/websearch%3Fp%3Dws_settings_location%26hl%3Den-IN&sa=U&ved=0ahUKEwjJ14CO7Zr4AhUWJrkGHY7WB2QQty4IUw&usg=AOvVaw1odNQfuakLj5efVe5FO0S4',\n",
       "  '/url?q=https://accounts.google.com/ServiceLogin%3Fcontinue%3Dhttps://www.google.com/search%253Fq%253Dyahoo%252Bfinance%252BBTC%2526tbm%253Dnws%26hl%3Den&sa=U&ved=0ahUKEwjJ14CO7Zr4AhUWJrkGHY7WB2QQxs8CCFQ&usg=AOvVaw3vRkAo177SjX1LgZldHGN2',\n",
       "  'https://www.google.com/preferences?hl=en-IN&fg=1&sa=X&ved=0ahUKEwjJ14CO7Zr4AhUWJrkGHY7WB2QQ5fUCCFU',\n",
       "  'https://policies.google.com/privacy?hl=en-IN&fg=1',\n",
       "  'https://policies.google.com/terms?hl=en-IN&fg=1']}"
      ]
     },
     "execution_count": 18,
     "metadata": {},
     "output_type": "execute_result"
    }
   ],
   "source": [
    "raw_urls = {ticker:search_for_stock_news_urls(ticker) for ticker in monitored_tickers}\n",
    "raw_urls"
   ]
  },
  {
   "cell_type": "markdown",
   "id": "6685064f",
   "metadata": {},
   "source": [
    "#  Strip out unwanted URLs"
   ]
  },
  {
   "cell_type": "code",
   "execution_count": 19,
   "id": "977e26a3",
   "metadata": {},
   "outputs": [],
   "source": [
    "import re"
   ]
  },
  {
   "cell_type": "code",
   "execution_count": 20,
   "id": "4df1ad1c",
   "metadata": {},
   "outputs": [],
   "source": [
    "exclude_list = ['maps', 'policies', 'preferences', 'accounts', 'support']"
   ]
  },
  {
   "cell_type": "code",
   "execution_count": 21,
   "id": "a6ed53f7",
   "metadata": {},
   "outputs": [],
   "source": [
    "def strip_unwanted_urls(urls, exclude_list):\n",
    "    val = []\n",
    "    for url in urls: \n",
    "        if 'https://' in url and not any(exclude_word in url for exclude_word in exclude_list):\n",
    "            res = re.findall(r'(https?://\\S+)', url)[0].split('&')[0]\n",
    "            val.append(res)\n",
    "    return list(set(val))"
   ]
  },
  {
   "cell_type": "code",
   "execution_count": 22,
   "id": "4585d7c3",
   "metadata": {},
   "outputs": [
    {
     "data": {
      "text/plain": [
       "{'GME': ['https://finance.yahoo.com/news/gamestop-reports-wider-q1-losses-164029882.html',\n",
       "  'https://www.shacknews.com/article/130624/gamestop-gme-q1-2022-eps-estimates-revenue',\n",
       "  'https://money.yahoo.com/video/market-check-stocks-gain-meme-192143662.html',\n",
       "  'https://finance.yahoo.com/news/gamestop-launches-beta-version-non-092459001.html',\n",
       "  'https://www.investing.com/analysis/gamestop-stock-sees-11-surge-despite-quarterly-los-200625313',\n",
       "  'https://finance.yahoo.com/news/gamestop-reports-first-quarter-fiscal-200500519.html',\n",
       "  'https://finance.yahoo.com/news/stock-market-news-live-updates-may-31-2022-111708003.html',\n",
       "  'https://finance.yahoo.com/news/bear-day-gamestop-gme-110011643.html',\n",
       "  'https://finance.yahoo.com/news/melvin-capital-shutdown-reddit-gamestop-meme-stock-134015125.html',\n",
       "  'https://finance.yahoo.com/news/gamestop-launches-wallet-cryptocurrencies-nfts-110000300.html'],\n",
       " 'TSLA': ['https://au.finance.yahoo.com/news/microsoft-surprise-hits-p-500-153726125.html',\n",
       "  'https://finance.yahoo.com/news/tesla-plans-supercharger-station-24-154045486.html',\n",
       "  'https://finance.yahoo.com/video/growth-stocks-tesla-rebound-inflation-143354706.html',\n",
       "  'https://finance.yahoo.com/news/tesla-insurance-worth-price-plus-224700704.html',\n",
       "  'https://finance.yahoo.com/news/elon-musk-tells-space-x-and-tesla-workers-that-they-must-return-to-the-office-full-time-223747961.html',\n",
       "  'https://finance.yahoo.com/news/tesla-wont-set-manufacturing-plant-170747894.html',\n",
       "  'https://finance.yahoo.com/news/elon-musk-backpedals-tesla-workforce-150302085.html',\n",
       "  'https://finance.yahoo.com/news/tesla-inc-tsla-attracting-investor-130001614.html',\n",
       "  'https://ca.finance.yahoo.com/news/emailing-employees-job-cuts-tesla-013822476.html',\n",
       "  'https://finance.yahoo.com/news/luminar-hires-execs-apple-nvidia-143020337.html'],\n",
       " 'BTC': ['https://ca.finance.yahoo.com/news/most-bitcoin-pandemic-gains-came-174704100.html',\n",
       "  'https://finance.yahoo.com/news/3iq-launches-3iq-coinshares-bitcoin-012100250.html',\n",
       "  'https://uk.finance.yahoo.com/news/sourceless-joins-bitcoin-bucharest-2022-110000777.html',\n",
       "  'https://finance.yahoo.com/news/bitcoin-set-witness-another-dip-191331432.html',\n",
       "  'https://finance.yahoo.com/news/bitcoin-gains-over-5-31-201155806.html',\n",
       "  'https://finance.yahoo.com/news/ethereum-founder-criticizes-york-bitcoin-164552530.html',\n",
       "  'https://ca.finance.yahoo.com/news/cryptoverse-early-birds-betting-bitcoins-051710967.html',\n",
       "  'https://money.yahoo.com/crypto-investors-ditching-tokens-for-bitcoin-201812266.html',\n",
       "  'https://finance.yahoo.com/news/inflation-affect-cryptocurrencies-bitcoin-ethereum-171253075.html',\n",
       "  'https://finance.yahoo.com/news/bitcoin-btc-returns-30-000-011129376.html']}"
      ]
     },
     "execution_count": 22,
     "metadata": {},
     "output_type": "execute_result"
    }
   ],
   "source": [
    "cleaned_urls = {ticker:strip_unwanted_urls(raw_urls[ticker], exclude_list) for ticker in monitored_tickers}\n",
    "cleaned_urls\n"
   ]
  },
  {
   "cell_type": "markdown",
   "id": "ba446de2",
   "metadata": {},
   "source": [
    "# Search and Scrape Cleaned URLs"
   ]
  },
  {
   "cell_type": "code",
   "execution_count": 23,
   "id": "058cf317",
   "metadata": {},
   "outputs": [],
   "source": [
    "def scrape_and_process(URLs):\n",
    "    ARTICLES = []\n",
    "    for url in URLs: \n",
    "        r = requests.get(url)\n",
    "        soup = BeautifulSoup(r.text, 'html.parser')\n",
    "        paragraphs = soup.find_all('p')\n",
    "        text = [paragraph.text for paragraph in paragraphs]\n",
    "        words = ' '.join(text).split(' ')[:350]\n",
    "        ARTICLE = ' '.join(words)\n",
    "        ARTICLES.append(ARTICLE)\n",
    "    return ARTICLES"
   ]
  },
  {
   "cell_type": "code",
   "execution_count": 24,
   "id": "9b719376",
   "metadata": {},
   "outputs": [
    {
     "data": {
      "text/plain": [
       "{'GME': ['By Yasin Ebrahim Investing.com -- GameStop reported Wednesday wider-than-expected losses in the first quarter as the video game retailer\\'s ramp-up in investments to boost inventory levels and support its transition into digital assets weighed on growth. GameStop was flat in afterhours trading following the news. GameStop (NYSE:GME) reported a net loss of $2.08 a share, more than double the loss of $1.01 a share in same period last year. Revenue rose to $1.38 billion from $1.28 billion a year earlier. Wall Street expected a loss of $1.22 on revenue of $1.27 billion. Inventory rose to $917.6 million for the quarter, up from $570.9 million in the prior year’s first quarter, reflecting a \"continued focus on improving in-stock levels in merchandise to meet increased customer demand and offset supply chain headwinds,\" the company said. Looking ahead, the company said it took steps to support the recent launch of a digital asset wallet to allow gamers and others to store, send, receive and use cryptocurrencies and non-fungible tokens across decentralized apps. \"The wallet extension will enable transactions on GameStop’s NFT marketplace upon its intended launch in the second quarter,\" it added. Related Articles GameStop Reports Wider Q1 Losses as Inventory, Digital Asset Spend Bite New York LaGuardia airport reveals $8 billion makeover Meta Platforms\\' Sheryl Sandberg to leave after 14 years Related Quotes Yahoo Finance Live looks at GameStop\\'s Q1 earnings report it posted after today\\'s closing bell. Nio (NYSE: NIO) stock surged this morning and had shot up 8.9% as of 10 a.m. ET as investors lapped up the latest delivery numbers from the electric vehicle (EV) maker, which seem to put to rest some of the market\\'s major concerns.  This morning, Nio reported it delivered 7,024 EVs in May, which was up 38% from April and just about 5% year over year.  Nio confirmed its production picked up pace in May after a shutdown, and said it plans to ramp up production and deliveries even further in June. Burry’s not bullish. But he’s beginning to nibble. Over the last 24 hours, the price of the world\\'s largest cryptocurrency,',\n",
       "  'New to Shacknews? Signup for a Free Account Already have an account? Login Now GameStop will report its Q1 2022 earnings results on June 1, 2022, and we have put together all of Wall Street\\'s expectations in this one article. GameStop will report its Q1 2022 earnings results on June 1, 2022. We have compiled the estimates and expectations for the video game retailer right here. Shares of GameStop have had a volatile first five months of 2022, but only time will tell if the stock is still heading to the moon or not. Please take a look at all of the important metrics and information to pay attention to when GameStop\\'s Q1 2022 earnings release comes out.  Earnings-per-share (EPS) expectations Revenue (sales) expectations This data was compiled from information on etrade.com and earningswhispers.com. Some interesting data points to note from Wall Street\\'s expectations for GameStop\\'s Q1 2022 results include the very wide array of EPS estimates and the lack of a whisper number. Not a single analyst expects GameStop to report a profit for Q1 2022. It also appears that our friends at Earnings Whispers have just given up on trying to predict GME results, but we will keep an eye on their site tomorrow. GameStop (GME) short interest sits at around 22% according to Yahoo Finance, but many investors believe some games are being played with the share float and hedge fund disclosures. The stock is still classified as \"Hard-to-Borrow\" with estimated borrowing rates jumping at many different brokers.\\xa0 As always, we will wait for the actual financial results to be posted by GameStop before we make any judgements. The stock has caught a bid lately, with the release of the GameStop Wallet Chrome extension and murmurs of an imminent launch of the NFT Marketplace. Lurking…🇨🇦 pic.twitter.com/wnRfJCJMRT \\n\\n We will be streaming the GameStop (GME) Q1 2022 earnings conference call on our Shacknews Twitch channel, so be sure to give us a follow to be notified when we go live. This article is only meant for educational purposes, and should not be taken as investment advice. Please',\n",
       "  \"Yahoo Finance's Jared Blikre and Brian Cheung join the Live show to break down data on job openings in April, the market and sector actions heading into the day's final trading hour, the bond market, and meme stocks. DAVE BRIGGS: What are we learning today about job openings across the country? BRIAN CHEUNG: Yeah, Dave, as you mentioned, we got data this morning from the Bureau of Labor Statistics, detailing all of the job market turnover that we see. This is different than the monthly employment report that you tend to see. But what we really want to look at is, how many job postings are employers trying to fill? And if you take a look at the chart of what job openings look like, you can see that actually, it didn't really tick down all that much between March and April, which was the latest data that we got as of this morning. 11.4 million job openings, extremely elevated by historical levels. Businesses having a difficult time staffing up. We saw that the quits rate also remain elevated at 4.4 million. We did, however, see the layoffs rate decline to 0.8%, so not that many people getting laid off of their job, at least in the month of April. That is, by the way, a series low, at least from the Bureau of Labor Statistics since they began collecting this report. So, all in all, it shows that even with the Federal Reserve raising interest rates, they haven't necessarily slowed the demand for hiring. Still very difficult for employers to find workers right now, guys. SEANA SMITH: All right, thanks so much, Brian. And Jared, you're taking a look at the markets. It's the first trading day of June. Some fear, though, still in the markets, as there's worry over the economic growth. JARED BLIKRE: Yes, there is, Seana. And let's take a look at the charts here. We are off the lows, so you're seeing a lot of red. But let's take a look at the NASDAQ, for instance. You can see over the last five days, still\",\n",
       "  'GameStop, the embattled video game store and meme stock, launched a non-custodial Ethereum browser wallet in beta on Tuesday. Users control their assets and must manage the wallet’s private keys themselves. The wallet is available from the Chrome Web Store for the Chrome and Brave browsers, and an iOS version of the app is “coming soon.” The new wallet precedes GameStop’s NFT marketplace, which the video game store expects to launch by September. In February, GameStop announced a partnership with Immutable X, an Ethereum Layer 2 for NFTs, to build the marketplace and launch a $100M development fund. Loopring will also help develop GameStop’s NFT marketplace. GameStop’s wallet supports Layer 2 transactions on the Loopring rollup network. Loopring transactions are cheap, and secured by Ethereum’s base layer. Etherscan estimates that transfers on the Ethereum mainnet cost about $1.30 and swaps are priced at $10.45. The same transactions cost $0.02 and $0.50 on Loopring, according to L2fees. GameStop’s brick-and-mortar shops suffered when the gaming industry went mostly online-only, but the company’s stock went viral in early January after retail investors piled in. The price of GME surged from $19 to highs of $483 in January 2021 before crashing to $40 in February. GME then hit $342 last June but now trades for $96. In its fourth quarter financials, GameStop reported losses of $147.5M, equating to a loss of $1.94 per share. While plenty of crypto fans are looking forward to GameStop’s NFT marketplace, gamers have pushed back against NFTs, criticizing the energy expenditure associated with Proof-of-Work and the extractive business models game studios use when leveraging nonfungible tokens. In February, Team17, the developer of Worms, canceled plans to launch NFTs less than one week after its announcement drew criticism from fans and one of its development partners. During the same month, Electronic Arts (EA) CEO Andrew Wilson said the company is no longer “driving hard” on NFTs. Sega announced NFTs in April 2021, but after persistent criticism, the company said it will “carefully assess” users’ concerns before launching them. Read the original post on The Defiant Related Quotes This super investor',\n",
       "  'This website is using a security service to protect itself from online attacks. The action you just performed triggered the security solution. There are several actions that could trigger this block including submitting a certain word or phrase, a SQL command or malformed data. You can email the site owner to let them know you were blocked. Please include what you were doing when this page came up and the Cloudflare Ray ID found at the bottom of this page. \\nCloudflare Ray ID: 7177c9dfe8198af1\\n•\\nYour IP: 2405:201:5009:3b73:a95d:be6f:f22c:d9d3\\n•\\nPerformance & security by Cloudflare\\n',\n",
       "  'GRAPEVINE, Texas, June 01, 2022--(BUSINESS WIRE)--GameStop Corp. (NYSE: GME) (\"GameStop\" or the \"Company\") today released financial results for the first quarter ended April 30, 2022. The Company’s condensed and consolidated financial statements, including GAAP and non-GAAP results, are below. The Company’s Form 10-Q and supplemental information can be found at http://investor.GameStop.com. FIRST QUARTER OVERVIEW Net sales were $1.378 billion for the quarter, compared to $1.277 billion in the prior year’s first quarter. Sales attributable to new and expanded brand relationships contributed to the Company\\'s growth in the quarter. Inventory was $917.6 million at the close of the quarter, compared to $570.9 million at the close of the prior year’s first quarter, reflecting a continued focus on improving in-stock levels in merchandise to meet increased customer demand and offset supply chain headwinds. Ended the period with cash and cash equivalents of $1.035 billion as well as no debt other than a low-interest, unsecured term loan associated with the French government’s response to COVID-19. Took steps to support the recent launch of a digital asset wallet to allow gamers and others to store, send, receive and use cryptocurrencies and non-fungible tokens (\"NFTs\") across decentralized apps. The wallet extension will enable transactions on GameStop’s NFT marketplace upon its intended launch in the second quarter. Continued hiring individuals with experience in areas such as blockchain gaming, ecommerce and technology, and operations, including a new Chief Operating Officer with a background in retail and stores. CONFERENCE CALL INFORMATION A webcast with management is scheduled for June 1, 2022, at 5:00 p.m. ET to discuss the Company’s quarter activities and financial results. This call, along with supplemental information, can also be accessed at http://investor.GameStop.com. The phone number for the investor conference call is 877-451-6152 and the confirmation code is 13730321. This webcast will be archived for two months on GameStop’s investor relations website. NON-GAAP MEASURES AND OTHER METRICS As a supplement to the Company’s financial results presented in accordance with U.S. generally accepted accounting principles (GAAP), GameStop may use certain non-GAAP measures, such as adjusted SG&A, adjusted operating income (loss), adjusted net income (loss), adjusted diluted',\n",
       "  \"U.S. stocks capped a turbulent month of May lower on Tuesday after a rally late last week failed to sustain momentum. The S&P 500 fell 0.6% in a choppy session, while the Dow Jones Industrial Average shed 222 points, or 0.7%. The Nasdaq Composite slipped 0.4%. [Click here to read what's moving markets on Wednesday, June 1] These moves come after all three indexes logged weekly gains of more than 6% Friday, clawing back from seven consecutive losing weeks for the S&P 500 and Nasdaq and eight weeks of losses for the Dow. May marked another volatile month for equity markets as concerns over inflation and interest rate hikes weighed on sentiment. Despite a mostly downbeat month, the S&P 500 and Dow each closed marginally higher for the month, while the Nasdaq extended its losses by 2%. Meanwhile, Bitcoin (BTC-USD) and Ethereum (ETH-USD) rose Tuesday amid a broader relief rally in cryptocurrencies. Oil futures pared gains late in the session after a jump in early trading following reports Chinese authorities were poised to end a two-month COVID-19 lockdown in Shanghai and an agreement by EU leaders to stop purchases of crude oil and petroleum products from Russia. WTI crude oil futures climbed 3.6% to $118.70, while Brent crude oil futures rose 3.7% to $123.83. Shares of movie theater giant AMC (AMC) jumped as much as 10% in intraday trading but closed slightly lower following the debut of TOP GUN during Memorial Day weekend. U.S. theaters saw an estimated 122% year-over-year increase from last year's holiday weekend, AMC said in a statement Tuesday, underscoring positive signs of a post-COVID recovery for the industry. Before Tuesday's close, AMC's stock surged nearly 40% across the prior three sessions. Wall Street’s rally last week came on the heels of a favorable batch of quarterly earnings in recent trading sessions, which helped temporarily mitigate concerns over the toll of inflation on corporate profits. Signs from recent economic data that prices were peaking also helped buoy sentiment. Still, stocks were sharply down for the year, and some strategists have been skeptical about whether a bottom has\",\n",
       "  'Thank you for your patience. Our engineers are working quickly to resolve the issue.',\n",
       "  'Reddit\\'s war over GameStop stock has claimed a major casualty. Bloomberg and The New York Times report Melvin Capital, the hedge fund considered the nemesis of the meme stock affair, is shutting down. Fund owner Gabe Plotkin told investors that the \"appropriate next step\" after steep losses was to liquidate assets and return cash to investors, and that it was time to \"step away\" from managing others\\' capital. At least half of the cash will transfer by May 31st, with the rest coming by June 30th. Melvin Capital had been a successful fund, starting 2021 with over $12 billion. However, its public bet against GameStop and other struggling companies made it one of the largest victims of a GameStop-centric investing spree by people coordinating across Reddit and social networks. Plotkin\\'s fund reported a 53 percent loss in January 2021, and it took a $2.75 billion cash infusion to soften the blow and keep losses down to 39 percent for the year. The GameStop saga wasn\\'t the only factor involved, however. While a recovery appeared possible, Melvin posted a 23 percent loss through April that was partly linked to poor stock positions. The fund was clearly in peril after the Reddit battle — it\\'s just that some miscalculations finished the company once and for all. Reddit speculators shifted their attention to BlackBerry and other companies in the aftermath of the GameStop drama, and there hasn\\'t been fallout on par with Melvin\\'s in the months since. Still, the shutdown illustrates the power of coordinated internet investors — they can demolish conventional stock managers in the right circumstances. Aurora Cannabis Inc. (\"Aurora\" or the \"Company\") (NASDAQ: ACB) (TSX: ACB), the Canadian company defining the future of cannabinoids worldwide, has announced today that it has amended the terms of its previously announced bought deal financing. Under the amended terms, a syndicate of underwriters led by Canaccord Genuity and BMO Capital Markets, have agreed to buy on a bought deal basis 61.2 million units of the Company (the \"Units\"), at a price of US$2.45 per Unit for gross proceeds of approxima Aurora Cannabis Inc. shares',\n",
       "  'GRAPEVINE, Texas, May 23, 2022--(BUSINESS WIRE)--GameStop Corp. (NYSE: GME) (\"GameStop\" or the \"Company\") today announced it has launched its digital asset wallet to allow gamers and others to store, send, receive and use cryptocurrencies and non-fungible tokens (\"NFTs\") across decentralized apps without having to leave their web browsers. The GameStop Wallet is a self-custodial Ethereum wallet. The wallet extension, which can be downloaded from the Chrome Web Store, will also enable transactions on GameStop’s NFT marketplace, which is expected to launch in the second quarter of the Company’s fiscal year. Learn more about GameStop’s wallet by visiting https://wallet.gamestop.com. CAUTIONARY STATEMENT REGARDING FORWARD-LOOKING STATEMENTS - SAFE HARBOR This press release contains \"forward looking statements\" within the meaning of Section 27A of the Securities Act of 1933, as amended, and Section 21E of the Securities Exchange Act of 1934, as amended. These forward-looking statements generally, including statements about the Company’s NFT marketplace and digital asset wallet, include statements that are predictive in nature and depend upon or refer to future events or conditions, and include words such as \"believes,\" \"plans,\" \"anticipates,\" \"projects,\" \"estimates,\" \"expects,\" \"intends,\" \"strategy,\" \"future,\" \"opportunity,\" \"may,\" \"will,\" \"should,\" \"could,\" \"potential,\" \"when,\" or similar expressions. Statements that are not historical facts are forward-looking statements. Forward-looking statements are based on current beliefs and assumptions that are subject to risks and uncertainties. Forward-looking statements speak only as of the date they are made, and the Company undertakes no obligation to update any of them publicly in light of new information or future events. Actual results could differ materially from those contained in any forward-looking statement as a result of various factors. More information, including potential risk factors, that could affect the Company’s business and financial results are included in the Company’s filings with the SEC including, but not limited to, the Company’s Annual Report on Form 10-K for the fiscal year ended January 29, 2021, filed with the SEC on March 17, 2022. All filings are available at www.sec.gov and on the Company’s website at www.GameStop.com. View source version on businesswire.com: https://www.businesswire.com/news/home/20220523005360/en/ Contacts GameStop Corp. Investor Relations(817) 424-2001ir@gamestop.com Related Quotes This trio'],\n",
       " 'TSLA': ['Get Fully Briefed with Yahoo Finance, delivered straight to your inbox. The S&P 500 and the Dow lost ground after Microsoft made a surprise cut to its earnings outlook and comments from a Federal Reserve official quashed recent optimism about an eventual pause in the central bank\\'s rate hike moves. Seven of the 11 major S&P sectors fell on Thursday, with healthcare , utilities and consumer staples stocks leading the declines. Fed Vice Chair Lael Brainard said she thinks a half-point rate hike in the next couple of Fed meetings is reasonable, and sees little case for pausing rate hikes in September. \"The market are sensing that the move so far has done little to rein in the inflationary pressures and therefore, the sense is that they\\'re going to have to get more aggressive and that\\'s just causing continued kind of angst and nervousness in the market,\" said Kenny Polcari, managing partner at Kace Capital Advisors. \"Not a disaster, but certainly nervousness.\" Microsoft fell 2.4 per cent after the company became the latest US corporation to warn of a hit to its profits from a stronger dollar. It cut its fourth-quarter forecasts for both profit and revenue. US stock indexes staged a strong rally towards the end of May to recoup earlier losses in the month, as signs that inflation may have peaked led investors to speculate that the Fed may not raise rates as much as previously expected. The Fed will also be looking at the nonfarm payrolls report on Friday that will shed light on the health of the labour market. Economists are expecting the economy to have added 325,000 jobs last month. \"If we get a weak number (tomorrow) that is close to this, that means maybe the tight labour market is beginning to show cracks and that will be a relief for the Federal Reserve,\" Peter Cardillo, chief market economist at Spartan Capital Securities in New York, said. The ADP National Employment report on Thursday showed private payrolls rose by 128,000 last month, far below the estimate of 300,000, and a decline from the downwardly revised',\n",
       "  'Tesla has reportedly submitted plans with the city of Los Angeles for a diner and drive-in theater. In 2018, Elon Musk said he wanted to create a Supercharger station with a restaurant and drive-in. Tesla\\'s plans could help boost EV adoption by turning charging stations into fun destinations. Tesla is planning to build a Supercharger station with a 24-hour diner and a drive-in movie theater in Los Angeles, according to a report from Bloomberg. The electric-car maker filed the plans with the city of Los Angeles on May 19, according to the publication. Tesla plans to build the luxury supercharger station at 7001 West Santa Monica Boulevard in Hollywood, per Bloomberg. Electrek was the first to report on the plans, citing a tweet with a schematic of the two-story diner in the 9,300-square-foot space. The site will have 28 Supercharger stalls and two movie screens that can accommodate over 200 people, Bloomberg reported. Customers will be able to view the two screens either from their car or a rooftop seating area, according to the project description for the site that was referenced by Bloomberg. Customers will also be able to order and have food delivered right to their car, according to the plans. The project description for the site says it will show movies that will take about the same amount of time as it takes to charge a Tesla — about 30 minutes. \\xa0 Tesla did not respond to a request for comment on its plans for the site. Insider was unable to confirm the site plans with the city. The plans must first be approved by the city. The project details did not include any information on prices, menu options, or when the venue would open to customers. The address is located in the heart of downtown Hollywood and is currently home to a pizza chain called Shakey\\'s Pizza Parlor, which appears to be still accepting orders. News of the Tesla diner and drive-in comes nearly four years after Tesla CEO Elon Musk first tweeted about building an \"old school drive-in, roller skates & rock restaurant\" in Los',\n",
       "  'Thank you for your patience. Our engineers are working quickly to resolve the issue.',\n",
       "  'If you’re considering buying one, you may be asking yourself, is a Tesla worth it? The cheapest car, the Tesla Model 3, starts at $42,690. In addition to their purchase price, car insurance costs for Teslas are greater than that of other vehicles. On average, it can cost more than double to insure a Tesla than a standard gas-powered car. Fortunately, Tesla now offers its own insurance for its high-tech electric vehicles. We’ll look at whether Teslas Insurance is worth it and what other car insurance options might be better for your needs and budget. 6 Genius Hacks All Costco Shoppers Should Know In recent years, Tesla has become enormously popular. Currently headed by CEO Elon Musk, the company delivered 936,222 vehicles in 2021. Its revenues for the year totaled $53.82 billion, a 71% increase compared with 2020. Before you head to a Tesla store, make sure you consider the cost of auto insurance. When it comes to your typical car, the average cost of car insurance is $1,483 per year. However, coverage for Teslas is substantially more expensive. Why? There are several reasons: Luxury: With their high price tags, Teslas are considered luxury cars. Although the Model 3 starts at $42,690, other Tesla models have much higher price tags, such as the Model X, which starts at $109,690. As luxury vehicles, Teslas will be more expensive to insure than your typical coupe or sedan. Complex technology: Teslas boast high-tech systems, including its touch screen display, electric powertrain, and autopilot features. If the car is damaged and needs repairs, finding technicians that are able to work on those systems can be difficult — and expensive. Body shop limitations: Not all body shops are equipped to work on Teslas, so you’re limited to Tesla-approved shops. Coverage needs: With their high price tags and complex electronics, a Tesla isn’t a car to skimp on with insurance. To properly protect yourself and your vehicle, you’ll need comprehensive and collision insurance coverage with fairly high limits, typically more than state-minimum coverage. Along with its high purchase price and the cost to charge a Tesla,',\n",
       "  'Elon Musk delivered an ultimatum to Tesla and Space X’s corporate workforces: Spend a minimum of 40 hours a week in the office, or leave the company. Musk today confirmed in a tweet that screenshots of an email sent to workers was real. According to The New York Times, workers at both companies received similar memos from Musk that made clear that all workers must report to a main office for 40 hours a week. Musk also wrote that employees would no longer be allowed to work from “remote branch” offices not related to their job duties, giving the example of an HR worker for the Fremont factory who works out-of-state. “The more senior you are, the more visible must be your presence,” Musk said in a memo to SpaceX employees obtained by NYT. “That is why I spent so much time in the factory — so that those on the line could see me working alongside them. If I had not done that, SpaceX would long ago have gone bankrupt.” Musk taking a hardline stance on remote work is in stark contrast to a number of other major tech companies that have allowed all or most workers to request to work-from-home permanently, including Facebook, Twitter, Salesforce and Slack. Apple recently suspended a requirement that workers return to the office at least three days a week. As Bloomberg reported today, Twitter employees — who are likely to be reporting to Musk once his acquisition of the company is complete — have internally expressed some concern the SpaceX and Tesla remote work policies (or lack thereof) herald unwelcome changes for their own workplace. Tesla’s career website still lists a number of salaried and hourly remote positions. It’s unclear whether the new policy will apply to those positions. Engadget has reached out to Tesla for comment, though we are unlikely to hear back: the company dissolved its corporate communications department in 2020. Elon Musk is calling Tesla executives back to the office—and using factory workers’ demanding schedules to justify his orders.  The Tesla CEO sent out an email on May 31',\n",
       "  'Tesla won\\'t set up a manufacturing plant in India until it is first allowed to sell and service imported cars in the South Asian nation, the carmaker\\'s chief executive Elon Musk said Friday, more than a year after an Indian state said that the electric carmaker was planning to open a plant in the southern part of the country. Responding to an individual on Twitter, who had asked for an update on Tesla\\'s manufacturing plant in India, Musk responded, \"Tesla will not put a manufacturing plant in any location where we are not allowed first to sell & service cars.\" Tesla and the Indian government have been engaging for more than two years to evaluate a pathway for the electric carmaker to enter the world\\'s second most populous nation but are stuck in a deadlock. The Indian government has insisted that Tesla commits to opening a manufacturing plant in the country, so that it can assemble cars locally in the nation, and follow high import duties until it does if it wishes to sell its vehicles. The U.S. firm, on the other hand, is seeking lower import taxes in India so it can first test the market by selling cheaper imported electric vehicles before committing to a manufacturing base. Tesla incorporated a subsidiary in India early last year and registered an office in the city of Bengaluru in Karnataka. The Southern Indian state of Karnataka said shortly afterwards that Tesla \"will be opening an electric car manufacturing unit in Karnataka.\" But the two are now at a standstill. “If Elon Musk is ready to manufacture Tesla in India, then there is no problem,” India\\'s Road Transport Minister Nitin Gadkari said at an event last month. But manufacturing cars in China and selling them in India is not a “good proposition,” he added. Several global brands, including Mercedes-Benz, BMW, Toyota and Hyundai have expanded their businesses in India in recent years. In a tweet earlier this year, Musk said that Tesla was \"still working through a lot of challenges with the government.\" Audi has expressed similar concerns. Several Tesla executives in',\n",
       "  'Elon Musk seemed to try to assuage investors’ anxiety over the weekend, following his leaked emails about slashing Tesla’s workforce, which sent the stock nosediving on June 3, closing down 9.22%. See: Elon Musk Has ‘Super Bad Feeling’ About Economy, Has To Cut 10% of Tesla JobsFind: Elon Musk Tells Tesla Staff They Must Return to the Office or Leave Company On June 4, Musk tweeted that “total headcount will increase, but salaried should be fairly flat.” This was just two days after Musk sent a series of emails telling his Tesla executive staff they couldn’t work from home anymore. Then the richest man on the planet announced he would need to cut about 10% of jobs at the company, GOBankingRates reported. Musk said he had a “super bad feeling” about the economy, according to an internal email to executives obtained by Reuters and titled “pause all hiring worldwide.” “Tesla will be reducing salaried headcount by 10% as we have become overstaffed in many areas. Note, this does not apply to anyone actually building cars, battery packs or installing sloe. Hourly headcount will increase,” the memo, posted on Twitter by The Future Fund managing partner and co-founder Gary Black, reads. As of December 31, 2021, Tesla had 99,290 employees, according to its annual report. Shares of Tesla — which have been struggling since the $44 billion Twitter acquisition was announced in April – were up 2.98% in pre-market trading on June 6. Edward Moya, senior market analyst, The Americas OANDA, wrote in a note sent to GOBankingRates on June 3 that “Wall Street is not used to hearing from CEOs that are straight shooters, so Musk’s warning carries a lot of weight.” Live Blog:\\xa0Elon Musk, Social Security, Gas Prices and MoreSee: Elon Musk’s Net Worth Drops Below $200 Billion Again as Tesla Stock Continues To Struggle — Is It Time To Sell? “Commodity prices are not easing fast enough, China’s COVID situation will likely linger, and a weaker consumer will hurt demand for new cars.\\xa0 If Tesla is worried about their outlook, that means the other large car manufacturers are',\n",
       "  \"Tesla (TSLA) has been one of the most searched-for stocks on Zacks.com lately. So, you might want to look at some of the facts that could shape the stock's performance in the near term. Shares of this electric car maker have returned -12.8% over the past month versus the Zacks S&P 500 composite's -0.5% change. The Zacks Automotive - Domestic industry, to which Tesla belongs, has lost 11.2% over this period. Now the key question is: Where could the stock be headed in the near term? While media releases or rumors about a substantial change in a company's business prospects usually make its stock 'trending' and lead to an immediate price change, there are always some fundamental facts that eventually dominate the buy-and-hold decision-making. Earnings Estimate Revisions Rather than focusing on anything else, we at Zacks prioritize evaluating the change in a company's earnings projection. This is because we believe the fair value for its stock is determined by the present value of its future stream of earnings. We essentially look at how sell-side analysts covering the stock are revising their earnings estimates to reflect the impact of the latest business trends. And if earnings estimates go up for a company, the fair value for its stock goes up. A higher fair value than the current market price drives investors' interest in buying the stock, leading to its price moving higher. This is why empirical research shows a strong correlation between trends in earnings estimate revisions and near-term stock price movements. Tesla is expected to post earnings of $2.13 per share for the current quarter, representing a year-over-year change of +46.9%. Over the last 30 days, the Zacks Consensus Estimate has changed -10.7%. For the current fiscal year, the consensus earnings estimate of $11.18 points to a change of +64.9% from the prior year. Over the last 30 days, this estimate has changed -0.5%. For the next fiscal year, the consensus earnings estimate of $13.48 indicates a change of +20.6% from what Tesla is expected to report a year ago. Over the past month, the estimate has changed +105.9%. Having\",\n",
       "  'Oil prices hit US$120 as Saudi July price rise eclipses OPEC+ deal Elon Musk tweeted that the \"total headcount would increase\" at Tesla and salaried staff would stay \"fairly flat.\" Musk\\'s comments came after the Tesla CEO sent an email to staff saying he would cut 10% of salaried jobs. Tesla employed nearly 100,000 staff at the end of 2021. After sending an email about job cuts for salaried staff, Tesla CEO Elon Musk seemed to retract his statements in a tweet reply Saturday, writing that the number of salaried staff may not change drastically. Twitter account @WholeMarsBlog tweeted that Tesla\\'s headcount would increase over the next 12 months. Musk replied and said that the total number of Tesla employees hired would increase, but that salaried staff \"should be fairly flat.\" Musk did not clarify whether or not existing salaried employees would become hourly employees or if new employees would be hired at Tesla. —Elon Musk (@elonmusk) June 4, 2022 Musk said that he had a \"super bad feeling\" regarding the economy in an email titled \"pause all hiring worldwide\" sent to Tesla executives on Friday. As a result, Musk said he would need to cut 10% of salaried staff, Reuters reported. Musk wrote that the amount of hourly employees at Tesla would increase. The Tesla CEO said that the memo did not apply to anyone \"building cars, battery packs or installing solar,\" Reuters reported. Two days prior, Musk sent a memo to his executive staff telling them to return to the office or resign, Electrek reported.  Tesla employed 100,000 by the end of last year, according to an SEC filing. A spokesperson for Tesla did not immediately respond to Insider\\'s request for comment. Read the original article on Business Insider The trespasser had said she was a SpaceX employee but upon investigation, deputies found that she didn\\'t work there, per a country sheriff. \"Total headcount will increase, but salaried should be fairly flat,\" Musk tweeted https://twitter.com/elonmusk/status/1533176789022957568 in a reply to an unverified Twitter account that made a \"prediction\" that Tesla\\'s headcount would increase over the next 12 months.',\n",
       "  'Luminar, the U.S. lidar company, is the latest to poach executives from Apple, Nvidia and Tesla in the continuing talent war in automated driving and autonomous vehicle technology. Christopher “CJ” Moore, director of autonomous systems at Apple and former director of Tesla’s Autopilot software, has joined Luminar as VP of software. Taner Ozcelik, founder of Nvidia\\'s Automotive Business, has become executive vice president and general manager responsible for research and development and Luminar’s semiconductor subsidiaries, among other areas. Tesla’s chief IP Counsel, Chris Lubeck, is now head of intellectual property. Hiring former Tesla employees is notable, given CEO Elon Musk’s vocal stance against the technology. He called lidar a “crutch” and a “fool’s errand” at Tesla’s Autonomy Day in 2019. Lidar (an acronym for “light detection and ranging”) is a remote sensing method that can measure the car’s distance from objects and pedestrians. The system uses a laser to send pulses of light and a sensor that measures how long it takes the light to return. Autonomous driving companies including Cruise and Waymo use it to create 3D maps around the car. Automakers such as Mercedes are starting to turn to the sensor to offer more robust advanced driver assistance systems in passenger vehicles sold to consumers. Musk called lidar expensive and unnecessary, choosing instead to use radar, ultrasonic sensors and cameras to support its advanced driver assistance system called Autopilot and its so-called \"Full Self-Driving\" system, which is a $12,000 upgrade and is not self-driving. Tesla later removed radar as well. However, there have been reports that Tesla is using lidar as a training tool for its system. Other key hires include Jackie Chen, former president of Harman International, China, and Jared Jacobs, a former ZF Group executive who joined as Luminar’s VP of manufacturing operations. Luminar expects that series production cars will come equipped with the company’s lidar over the next year.  “Within the next 12 months there’s going to be series production cars that are Luminar-equipped that are out there advancing this industry forward,” Luminar founder and CEO Austin Russell said at the TechCrunch Mobility conference'],\n",
       " 'BTC': ['(Bloomberg) -- Most everyone knows that Bitcoin had a stellar two years when the pandemic broke out. But just about all of the coin’s gains since then have happened while US markets are closed. Most Read from Bloomberg Amazon’s Stock Split Delivers More Than Bargained For Apple Unveils Biggest MacBook Air Redesign in Over a Decade US Probes Binance Over Token That Is Now World’s Fifth Largest Musk’s ‘Buyer’s Remorse’ Won’t Get Him Out of Twitter Deal Stocks Rise as Higher Yields Keep Check on Rally: Markets Wrap A strategy that buys the coin at the equity-market close -- at 4 p.m. in New York -- and sells it at the next day’s open -- at 9:30 a.m. -- would have yielded gains of roughly 270% going back to the start of 2020, according to Jake Gordon at Bespoke Investment Group. But doing the opposite -- buying it at the US market open and selling it at the close -- spits out negative returns. “The bulk of Bitcoin’s gains have come outside of regular trading hours for US equities,” wrote Gordon in a note. Cryptocurrencies trade 24/7 and the strategy is hypothetical, an attempt to showcase just how sensitive crypto markets are to moves in US equities. And it’s difficult to say why the trend might work this way, said Gordon, though it appears the correlation to equities is a big factor this year. “It’s a more risk-averse market. In other words, stocks and cryptos are higher up on the risk spectrum, thus have sold off hand in hand,” he said. Bespoke recently found that Bitcoin has largely tended to move higher on weekends, when the stock market is closed, but that Monday through Friday, its intraday path looks much different: it trades flat before the market open, but declines as soon as trading commences. Bitcoin has long been a favorite of weekend traders, who can often benefit from lower levels of liquidity to generate bigger price swings. Earlier: Bitcoin Falls When the US Market Opens, Pointing to Cash Raising Analysts have been pointing out that the coin has moved',\n",
       "  \"Canada's first and largest digital asset investment fund manager, 3iQ, launches two crypto ETFs in Australia with the lowest fee structure currently available in Australia 3iQ CoinShares Bitcoin Feeder ETF (the Bitcoin ETF) (ticker: BT3Q) and the 3iQ CoinShares Ether Feeder ETF (the Ether ETF) (ticker: ET3Q) today list on Cboe Both ETFs are domiciled in Australia and will act as a 'feeder fund' providing access to the 3iQ CoinShares Bitcoin ETF and the 3iQ CoinShares Ether ETF in Canada, offering a dual regulated fund structure The funds provide exposure to the daily price movements of the U.S. dollar price movement of the underlying crypto asset and 3iQ currently has the lowest tracking errors amongst digital asset-based ETFs in Canada SYDNEY, June 7, 2022 /PRNewswire/ --\\xa03iQ Digital Asset Management (3iQ),\\xa0is pleased to announce the launch of the 3iQ CoinShares Bitcoin Feeder ETF (the Bitcoin ETF) (ticker: BT3Q) and the 3iQ CoinShares Ether Feeder ETF (the Ether ETF) (ticker: ET3Q), both of which will commence trading on Cboe today. The Bitcoin ETF and the Ether ETF leverage 3iQ's deep level of experience in managing funds invested in cryptocurrencies. The Bitcoin ETF and the Ether ETF aim to provide investors with exposure to bitcoin and ether, respectively, and the daily price movements of the U.S. dollar price of underlying crypto asset and the opportunity for potential long-term capital growth. Units of both ETFs are available for purchase in Australian dollars. 3iQ will list both funds with the lowest fee structure available in Australia, with a total management expense ratio of 1.20%. In addition, 3iQ is offering a three-month management fee waiver. Each of these ETFs is domiciled in Australia and acts as a 'feeder fund' giving investors access to the 3iQ CoinShares Bitcoin ETF and the 3iQ CoinShares Ether ETF, respectively, both of which are domiciled in Canada (together, the Underlying ETFs) and listed on the Toronto Stock Exchange. The Underlying ETFs invest in long-term holdings of bitcoin and ether, respectively, purchased from bitcoin/ether exchanges and OTC trading counterparties vetted by 3iQ, in order to provide investors with a convenient, simpler alternative\",\n",
       "  '3,300 employees in the UK have started the biggest trial of its kind We are pleased to announce that SourceLess Blockchain participated in the Bitcoin Bucharest 2022 event where Alexandru Stratulat (Blockchain Architect & DLT software engineer), the founder of SourceLess Blockchain, gave a brief overview of the entire ecosystem and answered questions from attendees. SourceLess Blockchain and Qommodity at Bitcoin Bucharest 2022 BUCHAREST, Romania, June 06, 2022 (GLOBE NEWSWIRE) -- SourceLess project began in the city of Constanta, in the south east part of Romania, and we wanted to have our first event in Romania where people could learn about who we are. The Bitcoin Bucharest event took place in a historic location. The location for the event is an iconic architectural masterpiece, more precisely The Marmorosch Bucharest, Autograph Collection which hosted the Marmorosch Bank more than 100 years ago. The Marmorosch hotel building history unfolded in the Beautiful Age or La Belle Epoque. The name of SourceLess is meant to be associated with companies and locations that provide solid construction. This kind of interaction brings us closer to our partners at Qommodity, with whom we develop tangible solutions through which people and businesses can generate solutions and transform their lives for the better. Together we are getting stronger since we clearly know every step we take. The conference focuses on technical innovations in the blockchain ecosystem and brings together researchers and practitioners working in the space. Regardless of their industry, blockchain analysts, technologists, and developers at the Blockchain Event are able to understand why blockchain matters to their businesses. We are interested in the application of decentralized protocols, formal methods, and empirical analysis, to improve the security and scalability of blockchain deployments. Our aim was to show participants how easier it could be to navigate in a web3 environment safely, with fewer costs and faster speed. In order to solve all security issues, SourceLess supports a clean internet where developers can freely create in a safer environment. The goal of Bitcoin Bucharest is to bring together the local community, cryptocurrency leaders, business professionals, and newbies to inspire, socialize,',\n",
       "  'For the first time after nine weeks, Bitcoin made a weekly close in green. After moving sideways for almost a month, BTC is back to test $30.7k as support. On-chain spending shows selling in losses in the market. The crypto market has been struggling to find a direction in the unpredictable market since there is no directional bias either indicating an uptrend or a downtrend.  But the king coin is not giving up, and after noting a good 24 hours, Bitcoin is finally preparing to reclaim a critical zone. After marking a local top back at the end of March, bitcoin began falling on the daily chart, and the run only ended a week ago. BTC observed a decline exceeding 40% in this duration, and the price fell below $30k once again. Since the last week of May, the leader of cryptocurrencies has been attempting to make a move upwards and close above the 23.6% Fibonacci level. This Fib level represents significant support for the crypto that two months ago was above $48 A bounce from this level would set Bitcoin up for a good rally ahead or at least a sustained sideways momentum with a gradual incline.  However, it seems unlikely that it could happen since the price indicators aren’t exactly aligned with this narrative. The white dots for the Parabolic SAR have run their course trying to support an uptrend, but they will not be changing positions and move above the candlesticks, signaling a downtrend. This is because, in the while that the uptrend was active, it failed to gain enough traction to maintain its strength. This is visible on the Average Directional Index (ADX), which began losing strength towards the end of May. Even though it was above the 25.0 threshold at the time of writing, it is barely 4 points away from dipping below it. Once that happens, the downtrend would officially come into action. Now, although one might confuse the green bars on the Squeeze Momentum indicator to be signals of bullish cues, the bars will soon begin declining and will eventually turn',\n",
       "  \"(Reuters) - Bitcoin rose 5.2% to $31,441.76 at 2000 GMT on Monday, adding $1,552.78 to its previous close. The world's biggest and best-known cryptocurrency is down 34.8% from the year's high of $48,234 on March 28. Ether, the coin linked to the ethereum blockchain network, rose 3.17% to $1,862.14 on Monday, adding $57.16 to its previous close. (Reporting by Sneha Bhowmik in Bengaluru; Editing by Shinjini Ganguli) The five-bedroom estate of America's beloved Golden Girl tops asking price. We feel now is a pretty good time to analyse Novavax, Inc.'s ( NASDAQ:NVAX ) business as it appears the company may be... Apple on Monday unveiled its latest M2 chip along with a fully redesigned MacBook Air and more powerful MacBook Pro. Putting away $4 million for retirement is a great accomplishment. However, you're likely wondering how much interest $4 million earns per year. Predicting how much interest your nest egg earns will help you decide if it's enough to support your … Continue reading → The post How Much Interest Does $4 Million Earn Per Year? appeared first on SmartAsset Blog. Praxis Precision Medicines Inc's (NASDAQ: PRAX) Phase 2/3 Aria Study of PRAX-114 for major depressive disorder (MDD) did not achieve statistical significance on the primary endpoint. The primary endpoint was the change from baseline in the total score of the 17-item Hamilton Depression Rating Scale (HAM-D17). The scale measures the frequency and intensity of depressive symptoms in individuals with major depressive disorder. Praxis said it will prioritize programs in movement disorders and epilep The state is making efforts to cut the Silver Spring company out of the project by moving it to Petersburg. (Bloomberg) -- Stock splits were all the rage early this year as indexes hovered near record highs, with companies from Amazon.com Inc. to Alphabet Inc. announcing them to make their share prices more alluring to individual investors. A few months on, the market has taken care of the problem. Most Read from BloombergAmazon’s Stock Split Delivers More Than Bargained ForElon Musk Says Twitter’s Lack of Info on Bots Breaches Merger DealStocks Pare Gains as Treasury Yields,\",\n",
       "  'A Bitcoin mining ban? Not quite, but still not a good idea, says one of the most prominent voices in crypto. On Friday, New York State Senate lawmakers passed a bill that will halt permits for new cryptocurrency mining facilities that use carbon-based fuel, due to environmental concerns. Widely and inaccurately reported as a ban on Bitcoin mining, the bill still awaits the signature of Governor Kathy Hochul. If it becomes law, it will impose a two-year moratorium on cryptocurrency mining operations that use proof of work (PoW) to validate transactions. Whatever the nature of this ban, it was not well-received by the cryptocurrency community, including Ethereum founder Vitalik Buterin. Buterin retweeted Bruce Fenton, the former executive director of the Bitcoin Foundation, who is running for New Hampshire Senate, and noted that he agreed with Fenton’s tweet, which said: “No government has the right to tell you what software to run.” “I oppose banning PoW,” Buterin tweeted on Saturday. https://twitter.com/VitalikButerin/status/1533104260916752384?s=20 Under PoW, cryptocurrency miners race to solve complex puzzles to validate transactions, a process that requires a lot of equipment and computer power. Bitcoin and Ethereum currently use PoW, but Ethereum plans to shift to a different, more energy-efficient method this summer. Though Buterin supports Ethereum’s move away from PoW, he said on Twitter that it’s “a bad idea” for the government to be “picking and choosing which specific applications are an okay use of electricity or not.” Rather than ban new PoW-run projects, it’s “better to just implement carbon pricing, and use some of the revenues to compensate low-income users,” Buterin said. While the Senate voted 36–27 to pass the bill and send it to Gov. Hochul’s desk, mining companies have threatened to leave New York if the moratorium is signed into law. This story was originally featured on Fortune.com More than 250 Republican donors and self-described gun rights supporters penned an open letter this weekend calling for Congress to move on limited gun reform after an elementary school shooting in Uvalde left 19 children and two teachers dead. “Most law enforcement experts believe these measures would make a',\n",
       "  'By Medha Singh and Lisa Pauline Mattackal (Reuters) - As the crypto winter creeps into June, the first signs of a thaw are emerging. Some investors are now betting that bitcoin is bottoming out, judging by the money heading into listed cryptocurrency funds, which represent just a slice of the market yet are popular among institutional and retail players alike. Overall flows into such funds turned positive last month, with a weekly average inflow of $66.5 million, a reversal from a dismal April when they saw a weekly average outflow of $49.6 million, according to data provider CryptoCompare. \"It\\'s largely institutional, and to a degree retail investors, recognizing that the pain is already endured, and we\\'re closer to the bottom than we are to the top,\" said Ben McMillan, chief investment officer of Arizona-based IDX Digital Assets. \"If you\\'re getting into crypto at these levels, a little near-term volatility could be worth a long-term payoff,\" he added. \"A lot of institutional investors are starting to look at crypto as a source of longer-term growth potential.\" It\\'s hard to know whether the tentative flows will last, though, or if the nascent trend will be replicated across the wider market. Many people will also think twice before piling into the market again, having been mightily clobbered as crypto was buffeted by worries over global monetary tightening and rising inflation. Bitcoin has lost roughly half its value since a November peak, it is down by a third in 2022 and has been languishing at around $30,000 for a month. The data from funds nonetheless indicate some investors are returning to crypto, albeit into the perceived safety of exchange-traded products (ETP) with their promise of greater liquidity and security. The assets under management of several bitcoin-futures ETFs have risen in the past week, according to Kraken Intelligence. The assets of the ProShares Bitcoin Strategy ETF\\'s have grown 6%, while those of the Global X Blockchain & Bitcoin Strategy ETF and VanEck Bitcoin Strategy ETF have climbed over 3%. BY comparison, ProShares\\' bitcoin fund saw outflows of over $127 million in April. The bullish trend',\n",
       "  'Since crypto’s drawdown in early May, investors in digital coins have been selling off their tokens and buying Bitcoin at a pace not seen in almost a year. Currently trading above $31,200, up more than 4% in the last day, Bitcoin, the world’s largest cryptocurrency by market capitalization now makes up 47.3% of crypto’s total market cap, according to TradingView. Bitcoin hasn’t played such a dominant role in investors’ portfolios since July 30, 2021, when the asset traded above $42,000. The increasing value relative to crypto’s total market cap suggests investors are seeking it as a safer investment during a period of contraction, which Gemini co-founders Tyler and Cameron Winklevoss have deemed the “crypto winter.” “Bitcoin is probably the most volatile major asset in history,” Andy Edstrom, managing director of advisory services with Swan Bitcoin, a bitcoin trading app, told Yahoo Finance. “But the reality is that its volatility has come down over the many years it has been in existence.” Created during the 2007-2009 Financial Crisis, bitcoin proponents originally envisioned it as an electronic cash outside of the monetary control of governments. Between those early days and now, advocates have altered their thinking, most often likening it to “digital gold” as Edstrom pointed out. While volatility has proven to be one of its main characteristics, data from Coin Metrics shows bitcoin’s whipsaw fluctuations have dropped over time. Since December, BTC has moved at an increasing lockstep with the stock market, especially high-growth technology stocks. Following the crypto market’s sell-off in early May, during which the algorithmic stablecoin TerraUSD collapsed, bitcoin’s correlation with the S&P 500 has seen a sharp drop, though it remains at levels higher than at any point in 2021. Off 54% since its November 2021 peak of $68,789, the asset has performed 9% worse than Meta ($FB) but held out 16% better than Netflix ($NFLX) in that time. However, in the last two years, its value has risen by 233% from $9,300 per coin, beating all large-cap tech stocks outside of Tesla. Still, bitcoin remains “heavily influenced by the macroeconomic environment,” Tom Dunleavy, a senior research',\n",
       "  'Cryptocurrencies like bitcoin have often been called an excellent inflation hedge. \\xa0However, USD’s purchase power against BTC has been in an uptrend for the most part of this year. Over the last two quarters, amid largely bearish market conditions, socio-political issues have played a key role in establishing BTC’s price trajectory.\\xa0 Cryptocurrencies as investments are attractive for several reasons. For some, cryptocurrencies are a quick way to earn money as they chant ‘wen Lambo,’ while for others, it’s the trust in blockchain technology or a certain project. For some, getting into cryptos could be as basic as jumping on the hype train, primarily due to FOMO. All that aside, cryptocurrencies like Bitcoin have often been called an excellent inflation hedge and a store of value. So, as inflation continues to rise, where do cryptocurrencies and inflation cross paths? Inflation is when the decreasing value of a currency, like the US dollar, increases the price of goods and services over time, thus helping the economy grow. However, unlike fiat currencies, cryptos can’t be manipulated to the same extent by changing interest rates, or so they said. In early May, bitcoin (BTC) and ether (ETH) rallied on the news of interest hike by FEDs, rising about 3.5% and 1.2%, respectively. Soaring inflation has been one driver of broad losses across the crypto markets. The United States Federal Reserve announced a 0.5% hike in interest rates, the highest hike ever in interest rates in the last two decades. While cryptocurrencies saw short-term price spikes after the news of the interest hike, the price gains couldn’t sustain. Many analysts, however, still believe that cryptocurrencies have been behaving in line with equities, similar to a big tech stock. In the post-pandemic era, USD’s buying power against BTC fell further, taking a significant dip in March 2020, followed by another drop towards the end of 2020, as seen above. Additionally, the USD’s value has further dipped due to the government’s continuous money printing. Over the last 50 years, inflation has already reduced the value of the USD by 85%, which strengthened BTC’s narrative as an excellent',\n",
       "  'On Thursday, bitcoin rose by 2.18% to log a fifth daily gain from six sessions. While market angsts over inflation and Fed monetary policy lingered, a NASDAQ rally delivered support ahead of Friday’s US nonfarm payroll numbers. Bitcoin (BTC) technical indicators flash red, with bitcoin sitting at the 100-day EMA. On Thursday, bitcoin (BTC) gained 2.18%. Partially reversing a 6.27% slide from Wednesday, bitcoin ended the day at $30,440. A mixed start saw bitcoin fall to an early morning low of $29,574 before finding support. Steering clear of the day’s Major Support Levels, bitcoin rallied to a late intraday high of $30,647. Falling short of the First Major Resistance Level at $31,389, however, bitcoin slipped back to sub-$30,500. A lack of regulatory chatter left bitcoin and the broader crypto market in the hands of the US equity markets. A NASDAQ rally delivered support through the afternoon session. Today, the Fear & Greed Index fell from 13/100 to 10/100 despite bitcoin’s return to $30,000. While falling deeper into the “Extreme Fear” zone, the Index held above May’s low of 8/100. Regulatory uncertainty and investor jitters over the economic outlook, inflation, and Fed monetary policy remain market negative. On Friday, US nonfarm payroll figures (NFP) for May could define the Fed’s interest rate path through to September. We, therefore, expect bitcoin sensitivity to Friday’s figures. Disappointing US nonfarm payroll figures from the ADP delivered the NASDAQ with support on Thursday. According to the ADP, nonfarm payrolls increased by 128k in May, falling short of a forecasted 300k rise. In April, US nonfarm payrolls had risen by 211k. The latest 24-hour liquidation figures reflected improving investor sentiment. According to Coinglass, 24-hour BTC liquidations stood at $117.21 million, down from $350 million levels, and just $0.459 million for the last hour. At the time of writing, BTC was up 0.04% to $30.453. Bitcoin rose to an early high of $30,490 to test resistance at $30,500 at the turn of the day. BTC will need to avoid the $30,220 pivot\\xa0to target the First Major Resistance Level at $30,866. BTC would need the broader crypto market']}"
      ]
     },
     "execution_count": 24,
     "metadata": {},
     "output_type": "execute_result"
    }
   ],
   "source": [
    "articles = {ticker:scrape_and_process(cleaned_urls[ticker]) for ticker in monitored_tickers}\n",
    "articles"
   ]
  },
  {
   "cell_type": "markdown",
   "id": "e9733344",
   "metadata": {},
   "source": [
    " # Summarise all Articles"
   ]
  },
  {
   "cell_type": "code",
   "execution_count": 31,
   "id": "1d6dfb45",
   "metadata": {},
   "outputs": [],
   "source": [
    "def summarize(articles):\n",
    "    summaries = []\n",
    "    for article in articles:\n",
    "        input_ids = tokenizer.encode(article, return_tensors='pt',max_length = 512,truncation=True)\n",
    "        output = model.generate(input_ids, max_length=55, num_beams=5, early_stopping=True)\n",
    "        summary = tokenizer.decode(output[0], skip_special_tokens=True)\n",
    "        summaries.append(summary)\n",
    "    return summaries"
   ]
  },
  {
   "cell_type": "code",
   "execution_count": 32,
   "id": "74f6608f",
   "metadata": {},
   "outputs": [
    {
     "data": {
      "text/plain": [
       "{'GME': ['Video game retailer posts wider-than-expected losses. Shares flat in afterhours trading following the news',\n",
       "  'Wall Street is expecting a profit for Q1 2022.',\n",
       "  '11.4 million job openings in April: Bureau of Labor Statistics.',\n",
       "  'Video game store expects NFT marketplace to launch in September. New Ethereum browser wallet supports Layer 2 transactions',\n",
       "  'You have been directed to this page because of an action you took.',\n",
       "  'Sales attributable to new and expanded brand relationships contributed to growth. Inventory was $917.6 million at the close of the quarter',\n",
       "  'Oil futures pare gains late in session amid reports of Shanghai CO-19 lockdown.',\n",
       "  'We are aware of the issue and are working to resolve it.',\n",
       "  \"Gabe Plotkin's Melvin Capital suffered heavy losses in meme stock battle. Fund to return half of cash to investors\",\n",
       "  'Video game retailer to launch NFT marketplace in second quarter of fiscal year.'],\n",
       " 'TSLA': ['Fed Vice Chair Brainard sees little case for pause in September.',\n",
       "  'Electric-car maker plans to build a Supercharger station in Los Angeles. News of the venue comes nearly four years after Musk first tweeted',\n",
       "  'We are aware of the issue and are working to resolve it.',\n",
       "  'Electric car maker has become enormously popular. Tesla now offers its own insurance for its high-tech vehicles',\n",
       "  'Tesla, SpaceX workers received similar emails. Musk taking hardline stance on remote work is in stark contrast to other tech companies',\n",
       "  'U.S. electric carmaker has been in talks with India government for more than two years. Tesla will not build a plant in India until it can sell cars',\n",
       "  'Shares are up 2.98% in pre-market trading on June 6. Musk said he had a ‘super bad feeling’ about economy, leaked emails show',\n",
       "  \"EV maker has seen its near-term stock price move lower recently. Earnings Estimate Revisions are one of the main factors that determine the stock's fair value.\",\n",
       "  'Musk sent an email to staff saying he would cut 10% of salaried jobs. Tesla employed nearly 100,000 staff at the end of 2021',\n",
       "  'Moore, Ozcelik leave Apple, Nvidia. Musk called lidar ‘crutch’ and ‘fool’s errand’'],\n",
       " 'BTC': ['Buying the coin before the market opens and selling it at the close generates negative returns.',\n",
       "  'Canada’s first and largest digital asset manager launches two crypto ETFs. 3iQ offers a three-month management fee waiver, lowest in Australia',\n",
       "  'SourceLess participates in Bitcoin Bucharest event where Alexandru Stratulat gave a brief overview of the ecosystem.',\n",
       "  'Leaders of cryptocurrencies are attempting to make a move upwards. Price has been moving sideways for almost a month',\n",
       "  'The world’s biggest and best-known cryptocurrency is down 34.8% from the year’s high.',\n",
       "  'Ethereum founder Vitalik Buterin opposed bill. Mining companies have threatened to leave New York',\n",
       "  'Weekly average inflow of crypto funds turns positive. Bitcoin has lost roughly half its value since November peak',\n",
       "  'Coin now makes up 47.3% of crypto’s total market cap. Bitcoin’s correlation with the S&P 500 has dropped',\n",
       "  'USD’s buying power against BTC has been in an uptrend for most part of 2020.',\n",
       "  'Nasdaq rally delivers support ahead of Friday’s payroll numbers. Bitcoin rallied to a late intraday high of $30,647 on Thursday']}"
      ]
     },
     "execution_count": 32,
     "metadata": {},
     "output_type": "execute_result"
    }
   ],
   "source": [
    "summaries = {ticker:summarize(articles[ticker]) for ticker in monitored_tickers}\n",
    "summaries"
   ]
  },
  {
   "cell_type": "code",
   "execution_count": 33,
   "id": "e850c058",
   "metadata": {},
   "outputs": [
    {
     "data": {
      "text/plain": [
       "['Video game retailer posts wider-than-expected losses. Shares flat in afterhours trading following the news',\n",
       " 'Wall Street is expecting a profit for Q1 2022.',\n",
       " '11.4 million job openings in April: Bureau of Labor Statistics.',\n",
       " 'Video game store expects NFT marketplace to launch in September. New Ethereum browser wallet supports Layer 2 transactions',\n",
       " 'You have been directed to this page because of an action you took.',\n",
       " 'Sales attributable to new and expanded brand relationships contributed to growth. Inventory was $917.6 million at the close of the quarter',\n",
       " 'Oil futures pare gains late in session amid reports of Shanghai CO-19 lockdown.',\n",
       " 'We are aware of the issue and are working to resolve it.',\n",
       " \"Gabe Plotkin's Melvin Capital suffered heavy losses in meme stock battle. Fund to return half of cash to investors\",\n",
       " 'Video game retailer to launch NFT marketplace in second quarter of fiscal year.']"
      ]
     },
     "execution_count": 33,
     "metadata": {},
     "output_type": "execute_result"
    }
   ],
   "source": [
    "summaries['GME']"
   ]
  },
  {
   "cell_type": "markdown",
   "id": "6b951eaa",
   "metadata": {},
   "source": [
    "#  Adding Sentiment Analysis"
   ]
  },
  {
   "cell_type": "code",
   "execution_count": null,
   "id": "9ab51cc6",
   "metadata": {},
   "outputs": [],
   "source": [
    "# from transformers import pipeline\n",
    "# sentiment_pipeline = pipeline(\"sentiment-analysis\")"
   ]
  },
  {
   "cell_type": "code",
   "execution_count": 46,
   "id": "33fd9654",
   "metadata": {},
   "outputs": [
    {
     "name": "stderr",
     "output_type": "stream",
     "text": [
      "No model was supplied, defaulted to distilbert-base-uncased-finetuned-sst-2-english (https://huggingface.co/distilbert-base-uncased-finetuned-sst-2-english)\n"
     ]
    }
   ],
   "source": [
    "from transformers import pipeline\n",
    "sentiment = pipeline(\"sentiment-analysis\")"
   ]
  },
  {
   "cell_type": "code",
   "execution_count": 47,
   "id": "0d305c98",
   "metadata": {},
   "outputs": [
    {
     "data": {
      "text/plain": [
       "[{'label': 'NEGATIVE', 'score': 0.9995482563972473},\n",
       " {'label': 'NEGATIVE', 'score': 0.993634819984436},\n",
       " {'label': 'POSITIVE', 'score': 0.9411106109619141},\n",
       " {'label': 'NEGATIVE', 'score': 0.9989579916000366},\n",
       " {'label': 'NEGATIVE', 'score': 0.9993282556533813},\n",
       " {'label': 'NEGATIVE', 'score': 0.9875537157058716},\n",
       " {'label': 'NEGATIVE', 'score': 0.9996682405471802},\n",
       " {'label': 'NEGATIVE', 'score': 0.9988595247268677},\n",
       " {'label': 'NEGATIVE', 'score': 0.9936532974243164},\n",
       " {'label': 'POSITIVE', 'score': 0.9612460732460022}]"
      ]
     },
     "execution_count": 47,
     "metadata": {},
     "output_type": "execute_result"
    }
   ],
   "source": [
    "sentiment(summaries['BTC'])"
   ]
  },
  {
   "cell_type": "code",
   "execution_count": 48,
   "id": "3582ccc9",
   "metadata": {},
   "outputs": [
    {
     "data": {
      "text/plain": [
       "{'GME': [{'label': 'NEGATIVE', 'score': 0.9995724558830261},\n",
       "  {'label': 'NEGATIVE', 'score': 0.9883319735527039},\n",
       "  {'label': 'NEGATIVE', 'score': 0.8309392929077148},\n",
       "  {'label': 'NEGATIVE', 'score': 0.9992325305938721},\n",
       "  {'label': 'NEGATIVE', 'score': 0.9522318243980408},\n",
       "  {'label': 'POSITIVE', 'score': 0.9992043375968933},\n",
       "  {'label': 'POSITIVE', 'score': 0.7827010154724121},\n",
       "  {'label': 'POSITIVE', 'score': 0.9979088306427002},\n",
       "  {'label': 'NEGATIVE', 'score': 0.9995594620704651},\n",
       "  {'label': 'POSITIVE', 'score': 0.6581302285194397}],\n",
       " 'TSLA': [{'label': 'NEGATIVE', 'score': 0.9964095950126648},\n",
       "  {'label': 'NEGATIVE', 'score': 0.7902910113334656},\n",
       "  {'label': 'POSITIVE', 'score': 0.9979088306427002},\n",
       "  {'label': 'POSITIVE', 'score': 0.9995372295379639},\n",
       "  {'label': 'POSITIVE', 'score': 0.9831773638725281},\n",
       "  {'label': 'NEGATIVE', 'score': 0.9802286028862},\n",
       "  {'label': 'NEGATIVE', 'score': 0.9954944849014282},\n",
       "  {'label': 'NEGATIVE', 'score': 0.9970801472663879},\n",
       "  {'label': 'NEGATIVE', 'score': 0.9894479513168335},\n",
       "  {'label': 'NEGATIVE', 'score': 0.9994169473648071}],\n",
       " 'BTC': [{'label': 'NEGATIVE', 'score': 0.9995482563972473},\n",
       "  {'label': 'NEGATIVE', 'score': 0.993634819984436},\n",
       "  {'label': 'POSITIVE', 'score': 0.9411106109619141},\n",
       "  {'label': 'NEGATIVE', 'score': 0.9989579916000366},\n",
       "  {'label': 'NEGATIVE', 'score': 0.9993282556533813},\n",
       "  {'label': 'NEGATIVE', 'score': 0.9875537157058716},\n",
       "  {'label': 'NEGATIVE', 'score': 0.9996682405471802},\n",
       "  {'label': 'NEGATIVE', 'score': 0.9988595247268677},\n",
       "  {'label': 'NEGATIVE', 'score': 0.9936532974243164},\n",
       "  {'label': 'POSITIVE', 'score': 0.9612460732460022}]}"
      ]
     },
     "execution_count": 48,
     "metadata": {},
     "output_type": "execute_result"
    }
   ],
   "source": [
    "scores = {ticker:sentiment(summaries[ticker]) for ticker in monitored_tickers}\n",
    "scores"
   ]
  },
  {
   "cell_type": "code",
   "execution_count": 49,
   "id": "c6a2e502",
   "metadata": {},
   "outputs": [
    {
     "name": "stdout",
     "output_type": "stream",
     "text": [
      "Video game store expects NFT marketplace to launch in September. New Ethereum browser wallet supports Layer 2 transactions NEGATIVE 0.9992325305938721\n"
     ]
    }
   ],
   "source": [
    "print(summaries['GME'][3], scores['GME'][3]['label'], scores['GME'][3]['score'])"
   ]
  },
  {
   "cell_type": "code",
   "execution_count": 50,
   "id": "2f8a3e77",
   "metadata": {},
   "outputs": [
    {
     "data": {
      "text/plain": [
       "0.9995482563972473"
      ]
     },
     "execution_count": 50,
     "metadata": {},
     "output_type": "execute_result"
    }
   ],
   "source": [
    "scores['BTC'][0]['score']"
   ]
  },
  {
   "cell_type": "markdown",
   "id": "d40c64b2",
   "metadata": {},
   "source": [
    "# Exporting Results to CSV"
   ]
  },
  {
   "cell_type": "code",
   "execution_count": 51,
   "id": "af17f710",
   "metadata": {
    "collapsed": true
   },
   "outputs": [
    {
     "data": {
      "text/plain": [
       "{'GME': ['Video game retailer posts wider-than-expected losses. Shares flat in afterhours trading following the news',\n",
       "  'Wall Street is expecting a profit for Q1 2022.',\n",
       "  '11.4 million job openings in April: Bureau of Labor Statistics.',\n",
       "  'Video game store expects NFT marketplace to launch in September. New Ethereum browser wallet supports Layer 2 transactions',\n",
       "  'You have been directed to this page because of an action you took.',\n",
       "  'Sales attributable to new and expanded brand relationships contributed to growth. Inventory was $917.6 million at the close of the quarter',\n",
       "  'Oil futures pare gains late in session amid reports of Shanghai CO-19 lockdown.',\n",
       "  'We are aware of the issue and are working to resolve it.',\n",
       "  \"Gabe Plotkin's Melvin Capital suffered heavy losses in meme stock battle. Fund to return half of cash to investors\",\n",
       "  'Video game retailer to launch NFT marketplace in second quarter of fiscal year.'],\n",
       " 'TSLA': ['Fed Vice Chair Brainard sees little case for pause in September.',\n",
       "  'Electric-car maker plans to build a Supercharger station in Los Angeles. News of the venue comes nearly four years after Musk first tweeted',\n",
       "  'We are aware of the issue and are working to resolve it.',\n",
       "  'Electric car maker has become enormously popular. Tesla now offers its own insurance for its high-tech vehicles',\n",
       "  'Tesla, SpaceX workers received similar emails. Musk taking hardline stance on remote work is in stark contrast to other tech companies',\n",
       "  'U.S. electric carmaker has been in talks with India government for more than two years. Tesla will not build a plant in India until it can sell cars',\n",
       "  'Shares are up 2.98% in pre-market trading on June 6. Musk said he had a ‘super bad feeling’ about economy, leaked emails show',\n",
       "  \"EV maker has seen its near-term stock price move lower recently. Earnings Estimate Revisions are one of the main factors that determine the stock's fair value.\",\n",
       "  'Musk sent an email to staff saying he would cut 10% of salaried jobs. Tesla employed nearly 100,000 staff at the end of 2021',\n",
       "  'Moore, Ozcelik leave Apple, Nvidia. Musk called lidar ‘crutch’ and ‘fool’s errand’'],\n",
       " 'BTC': ['Buying the coin before the market opens and selling it at the close generates negative returns.',\n",
       "  'Canada’s first and largest digital asset manager launches two crypto ETFs. 3iQ offers a three-month management fee waiver, lowest in Australia',\n",
       "  'SourceLess participates in Bitcoin Bucharest event where Alexandru Stratulat gave a brief overview of the ecosystem.',\n",
       "  'Leaders of cryptocurrencies are attempting to make a move upwards. Price has been moving sideways for almost a month',\n",
       "  'The world’s biggest and best-known cryptocurrency is down 34.8% from the year’s high.',\n",
       "  'Ethereum founder Vitalik Buterin opposed bill. Mining companies have threatened to leave New York',\n",
       "  'Weekly average inflow of crypto funds turns positive. Bitcoin has lost roughly half its value since November peak',\n",
       "  'Coin now makes up 47.3% of crypto’s total market cap. Bitcoin’s correlation with the S&P 500 has dropped',\n",
       "  'USD’s buying power against BTC has been in an uptrend for most part of 2020.',\n",
       "  'Nasdaq rally delivers support ahead of Friday’s payroll numbers. Bitcoin rallied to a late intraday high of $30,647 on Thursday']}"
      ]
     },
     "execution_count": 51,
     "metadata": {},
     "output_type": "execute_result"
    }
   ],
   "source": [
    "summaries"
   ]
  },
  {
   "cell_type": "code",
   "execution_count": 52,
   "id": "04539aaa",
   "metadata": {
    "collapsed": true
   },
   "outputs": [
    {
     "data": {
      "text/plain": [
       "{'GME': [{'label': 'NEGATIVE', 'score': 0.9995724558830261},\n",
       "  {'label': 'NEGATIVE', 'score': 0.9883319735527039},\n",
       "  {'label': 'NEGATIVE', 'score': 0.8309392929077148},\n",
       "  {'label': 'NEGATIVE', 'score': 0.9992325305938721},\n",
       "  {'label': 'NEGATIVE', 'score': 0.9522318243980408},\n",
       "  {'label': 'POSITIVE', 'score': 0.9992043375968933},\n",
       "  {'label': 'POSITIVE', 'score': 0.7827010154724121},\n",
       "  {'label': 'POSITIVE', 'score': 0.9979088306427002},\n",
       "  {'label': 'NEGATIVE', 'score': 0.9995594620704651},\n",
       "  {'label': 'POSITIVE', 'score': 0.6581302285194397}],\n",
       " 'TSLA': [{'label': 'NEGATIVE', 'score': 0.9964095950126648},\n",
       "  {'label': 'NEGATIVE', 'score': 0.7902910113334656},\n",
       "  {'label': 'POSITIVE', 'score': 0.9979088306427002},\n",
       "  {'label': 'POSITIVE', 'score': 0.9995372295379639},\n",
       "  {'label': 'POSITIVE', 'score': 0.9831773638725281},\n",
       "  {'label': 'NEGATIVE', 'score': 0.9802286028862},\n",
       "  {'label': 'NEGATIVE', 'score': 0.9954944849014282},\n",
       "  {'label': 'NEGATIVE', 'score': 0.9970801472663879},\n",
       "  {'label': 'NEGATIVE', 'score': 0.9894479513168335},\n",
       "  {'label': 'NEGATIVE', 'score': 0.9994169473648071}],\n",
       " 'BTC': [{'label': 'NEGATIVE', 'score': 0.9995482563972473},\n",
       "  {'label': 'NEGATIVE', 'score': 0.993634819984436},\n",
       "  {'label': 'POSITIVE', 'score': 0.9411106109619141},\n",
       "  {'label': 'NEGATIVE', 'score': 0.9989579916000366},\n",
       "  {'label': 'NEGATIVE', 'score': 0.9993282556533813},\n",
       "  {'label': 'NEGATIVE', 'score': 0.9875537157058716},\n",
       "  {'label': 'NEGATIVE', 'score': 0.9996682405471802},\n",
       "  {'label': 'NEGATIVE', 'score': 0.9988595247268677},\n",
       "  {'label': 'NEGATIVE', 'score': 0.9936532974243164},\n",
       "  {'label': 'POSITIVE', 'score': 0.9612460732460022}]}"
      ]
     },
     "execution_count": 52,
     "metadata": {},
     "output_type": "execute_result"
    }
   ],
   "source": [
    "scores"
   ]
  },
  {
   "cell_type": "code",
   "execution_count": 53,
   "id": "5df3737f",
   "metadata": {
    "collapsed": true
   },
   "outputs": [
    {
     "data": {
      "text/plain": [
       "{'GME': ['https://finance.yahoo.com/news/gamestop-reports-wider-q1-losses-164029882.html',\n",
       "  'https://www.shacknews.com/article/130624/gamestop-gme-q1-2022-eps-estimates-revenue',\n",
       "  'https://money.yahoo.com/video/market-check-stocks-gain-meme-192143662.html',\n",
       "  'https://finance.yahoo.com/news/gamestop-launches-beta-version-non-092459001.html',\n",
       "  'https://www.investing.com/analysis/gamestop-stock-sees-11-surge-despite-quarterly-los-200625313',\n",
       "  'https://finance.yahoo.com/news/gamestop-reports-first-quarter-fiscal-200500519.html',\n",
       "  'https://finance.yahoo.com/news/stock-market-news-live-updates-may-31-2022-111708003.html',\n",
       "  'https://finance.yahoo.com/news/bear-day-gamestop-gme-110011643.html',\n",
       "  'https://finance.yahoo.com/news/melvin-capital-shutdown-reddit-gamestop-meme-stock-134015125.html',\n",
       "  'https://finance.yahoo.com/news/gamestop-launches-wallet-cryptocurrencies-nfts-110000300.html'],\n",
       " 'TSLA': ['https://au.finance.yahoo.com/news/microsoft-surprise-hits-p-500-153726125.html',\n",
       "  'https://finance.yahoo.com/news/tesla-plans-supercharger-station-24-154045486.html',\n",
       "  'https://finance.yahoo.com/video/growth-stocks-tesla-rebound-inflation-143354706.html',\n",
       "  'https://finance.yahoo.com/news/tesla-insurance-worth-price-plus-224700704.html',\n",
       "  'https://finance.yahoo.com/news/elon-musk-tells-space-x-and-tesla-workers-that-they-must-return-to-the-office-full-time-223747961.html',\n",
       "  'https://finance.yahoo.com/news/tesla-wont-set-manufacturing-plant-170747894.html',\n",
       "  'https://finance.yahoo.com/news/elon-musk-backpedals-tesla-workforce-150302085.html',\n",
       "  'https://finance.yahoo.com/news/tesla-inc-tsla-attracting-investor-130001614.html',\n",
       "  'https://ca.finance.yahoo.com/news/emailing-employees-job-cuts-tesla-013822476.html',\n",
       "  'https://finance.yahoo.com/news/luminar-hires-execs-apple-nvidia-143020337.html'],\n",
       " 'BTC': ['https://ca.finance.yahoo.com/news/most-bitcoin-pandemic-gains-came-174704100.html',\n",
       "  'https://finance.yahoo.com/news/3iq-launches-3iq-coinshares-bitcoin-012100250.html',\n",
       "  'https://uk.finance.yahoo.com/news/sourceless-joins-bitcoin-bucharest-2022-110000777.html',\n",
       "  'https://finance.yahoo.com/news/bitcoin-set-witness-another-dip-191331432.html',\n",
       "  'https://finance.yahoo.com/news/bitcoin-gains-over-5-31-201155806.html',\n",
       "  'https://finance.yahoo.com/news/ethereum-founder-criticizes-york-bitcoin-164552530.html',\n",
       "  'https://ca.finance.yahoo.com/news/cryptoverse-early-birds-betting-bitcoins-051710967.html',\n",
       "  'https://money.yahoo.com/crypto-investors-ditching-tokens-for-bitcoin-201812266.html',\n",
       "  'https://finance.yahoo.com/news/inflation-affect-cryptocurrencies-bitcoin-ethereum-171253075.html',\n",
       "  'https://finance.yahoo.com/news/bitcoin-btc-returns-30-000-011129376.html']}"
      ]
     },
     "execution_count": 53,
     "metadata": {},
     "output_type": "execute_result"
    }
   ],
   "source": [
    "cleaned_urls"
   ]
  },
  {
   "cell_type": "code",
   "execution_count": 54,
   "id": "6f29f097",
   "metadata": {},
   "outputs": [
    {
     "data": {
      "text/plain": [
       "range(0, 10)"
      ]
     },
     "execution_count": 54,
     "metadata": {},
     "output_type": "execute_result"
    }
   ],
   "source": [
    "range(len(summaries['GME']))"
   ]
  },
  {
   "cell_type": "code",
   "execution_count": 55,
   "id": "0b652185",
   "metadata": {},
   "outputs": [
    {
     "data": {
      "text/plain": [
       "'Video game store expects NFT marketplace to launch in September. New Ethereum browser wallet supports Layer 2 transactions'"
      ]
     },
     "execution_count": 55,
     "metadata": {},
     "output_type": "execute_result"
    }
   ],
   "source": [
    "summaries['GME'][3]"
   ]
  },
  {
   "cell_type": "code",
   "execution_count": 58,
   "id": "b2317eca",
   "metadata": {},
   "outputs": [],
   "source": [
    "#meging all\n",
    "def create_output_array(summaries, scores, urls):\n",
    "    output = []\n",
    "    for ticker in monitored_tickers:\n",
    "        for counter in range(len(summaries[ticker])):\n",
    "            output_this = [\n",
    "                ticker,\n",
    "                summaries[ticker][counter],\n",
    "                scores[ticker][counter]['label'],\n",
    "                scores[ticker][counter]['score'],\n",
    "                urls[ticker][counter]\n",
    "            ]\n",
    "            output.append(output_this)\n",
    "    return output"
   ]
  },
  {
   "cell_type": "code",
   "execution_count": 59,
   "id": "b7f1eee7",
   "metadata": {
    "collapsed": true
   },
   "outputs": [
    {
     "data": {
      "text/plain": [
       "[['GME',\n",
       "  'Video game retailer posts wider-than-expected losses. Shares flat in afterhours trading following the news',\n",
       "  'NEGATIVE',\n",
       "  0.9995724558830261,\n",
       "  'https://finance.yahoo.com/news/gamestop-reports-wider-q1-losses-164029882.html'],\n",
       " ['GME',\n",
       "  'Wall Street is expecting a profit for Q1 2022.',\n",
       "  'NEGATIVE',\n",
       "  0.9883319735527039,\n",
       "  'https://www.shacknews.com/article/130624/gamestop-gme-q1-2022-eps-estimates-revenue'],\n",
       " ['GME',\n",
       "  '11.4 million job openings in April: Bureau of Labor Statistics.',\n",
       "  'NEGATIVE',\n",
       "  0.8309392929077148,\n",
       "  'https://money.yahoo.com/video/market-check-stocks-gain-meme-192143662.html'],\n",
       " ['GME',\n",
       "  'Video game store expects NFT marketplace to launch in September. New Ethereum browser wallet supports Layer 2 transactions',\n",
       "  'NEGATIVE',\n",
       "  0.9992325305938721,\n",
       "  'https://finance.yahoo.com/news/gamestop-launches-beta-version-non-092459001.html'],\n",
       " ['GME',\n",
       "  'You have been directed to this page because of an action you took.',\n",
       "  'NEGATIVE',\n",
       "  0.9522318243980408,\n",
       "  'https://www.investing.com/analysis/gamestop-stock-sees-11-surge-despite-quarterly-los-200625313'],\n",
       " ['GME',\n",
       "  'Sales attributable to new and expanded brand relationships contributed to growth. Inventory was $917.6 million at the close of the quarter',\n",
       "  'POSITIVE',\n",
       "  0.9992043375968933,\n",
       "  'https://finance.yahoo.com/news/gamestop-reports-first-quarter-fiscal-200500519.html'],\n",
       " ['GME',\n",
       "  'Oil futures pare gains late in session amid reports of Shanghai CO-19 lockdown.',\n",
       "  'POSITIVE',\n",
       "  0.7827010154724121,\n",
       "  'https://finance.yahoo.com/news/stock-market-news-live-updates-may-31-2022-111708003.html'],\n",
       " ['GME',\n",
       "  'We are aware of the issue and are working to resolve it.',\n",
       "  'POSITIVE',\n",
       "  0.9979088306427002,\n",
       "  'https://finance.yahoo.com/news/bear-day-gamestop-gme-110011643.html'],\n",
       " ['GME',\n",
       "  \"Gabe Plotkin's Melvin Capital suffered heavy losses in meme stock battle. Fund to return half of cash to investors\",\n",
       "  'NEGATIVE',\n",
       "  0.9995594620704651,\n",
       "  'https://finance.yahoo.com/news/melvin-capital-shutdown-reddit-gamestop-meme-stock-134015125.html'],\n",
       " ['GME',\n",
       "  'Video game retailer to launch NFT marketplace in second quarter of fiscal year.',\n",
       "  'POSITIVE',\n",
       "  0.6581302285194397,\n",
       "  'https://finance.yahoo.com/news/gamestop-launches-wallet-cryptocurrencies-nfts-110000300.html'],\n",
       " ['TSLA',\n",
       "  'Fed Vice Chair Brainard sees little case for pause in September.',\n",
       "  'NEGATIVE',\n",
       "  0.9964095950126648,\n",
       "  'https://au.finance.yahoo.com/news/microsoft-surprise-hits-p-500-153726125.html'],\n",
       " ['TSLA',\n",
       "  'Electric-car maker plans to build a Supercharger station in Los Angeles. News of the venue comes nearly four years after Musk first tweeted',\n",
       "  'NEGATIVE',\n",
       "  0.7902910113334656,\n",
       "  'https://finance.yahoo.com/news/tesla-plans-supercharger-station-24-154045486.html'],\n",
       " ['TSLA',\n",
       "  'We are aware of the issue and are working to resolve it.',\n",
       "  'POSITIVE',\n",
       "  0.9979088306427002,\n",
       "  'https://finance.yahoo.com/video/growth-stocks-tesla-rebound-inflation-143354706.html'],\n",
       " ['TSLA',\n",
       "  'Electric car maker has become enormously popular. Tesla now offers its own insurance for its high-tech vehicles',\n",
       "  'POSITIVE',\n",
       "  0.9995372295379639,\n",
       "  'https://finance.yahoo.com/news/tesla-insurance-worth-price-plus-224700704.html'],\n",
       " ['TSLA',\n",
       "  'Tesla, SpaceX workers received similar emails. Musk taking hardline stance on remote work is in stark contrast to other tech companies',\n",
       "  'POSITIVE',\n",
       "  0.9831773638725281,\n",
       "  'https://finance.yahoo.com/news/elon-musk-tells-space-x-and-tesla-workers-that-they-must-return-to-the-office-full-time-223747961.html'],\n",
       " ['TSLA',\n",
       "  'U.S. electric carmaker has been in talks with India government for more than two years. Tesla will not build a plant in India until it can sell cars',\n",
       "  'NEGATIVE',\n",
       "  0.9802286028862,\n",
       "  'https://finance.yahoo.com/news/tesla-wont-set-manufacturing-plant-170747894.html'],\n",
       " ['TSLA',\n",
       "  'Shares are up 2.98% in pre-market trading on June 6. Musk said he had a ‘super bad feeling’ about economy, leaked emails show',\n",
       "  'NEGATIVE',\n",
       "  0.9954944849014282,\n",
       "  'https://finance.yahoo.com/news/elon-musk-backpedals-tesla-workforce-150302085.html'],\n",
       " ['TSLA',\n",
       "  \"EV maker has seen its near-term stock price move lower recently. Earnings Estimate Revisions are one of the main factors that determine the stock's fair value.\",\n",
       "  'NEGATIVE',\n",
       "  0.9970801472663879,\n",
       "  'https://finance.yahoo.com/news/tesla-inc-tsla-attracting-investor-130001614.html'],\n",
       " ['TSLA',\n",
       "  'Musk sent an email to staff saying he would cut 10% of salaried jobs. Tesla employed nearly 100,000 staff at the end of 2021',\n",
       "  'NEGATIVE',\n",
       "  0.9894479513168335,\n",
       "  'https://ca.finance.yahoo.com/news/emailing-employees-job-cuts-tesla-013822476.html'],\n",
       " ['TSLA',\n",
       "  'Moore, Ozcelik leave Apple, Nvidia. Musk called lidar ‘crutch’ and ‘fool’s errand’',\n",
       "  'NEGATIVE',\n",
       "  0.9994169473648071,\n",
       "  'https://finance.yahoo.com/news/luminar-hires-execs-apple-nvidia-143020337.html'],\n",
       " ['BTC',\n",
       "  'Buying the coin before the market opens and selling it at the close generates negative returns.',\n",
       "  'NEGATIVE',\n",
       "  0.9995482563972473,\n",
       "  'https://ca.finance.yahoo.com/news/most-bitcoin-pandemic-gains-came-174704100.html'],\n",
       " ['BTC',\n",
       "  'Canada’s first and largest digital asset manager launches two crypto ETFs. 3iQ offers a three-month management fee waiver, lowest in Australia',\n",
       "  'NEGATIVE',\n",
       "  0.993634819984436,\n",
       "  'https://finance.yahoo.com/news/3iq-launches-3iq-coinshares-bitcoin-012100250.html'],\n",
       " ['BTC',\n",
       "  'SourceLess participates in Bitcoin Bucharest event where Alexandru Stratulat gave a brief overview of the ecosystem.',\n",
       "  'POSITIVE',\n",
       "  0.9411106109619141,\n",
       "  'https://uk.finance.yahoo.com/news/sourceless-joins-bitcoin-bucharest-2022-110000777.html'],\n",
       " ['BTC',\n",
       "  'Leaders of cryptocurrencies are attempting to make a move upwards. Price has been moving sideways for almost a month',\n",
       "  'NEGATIVE',\n",
       "  0.9989579916000366,\n",
       "  'https://finance.yahoo.com/news/bitcoin-set-witness-another-dip-191331432.html'],\n",
       " ['BTC',\n",
       "  'The world’s biggest and best-known cryptocurrency is down 34.8% from the year’s high.',\n",
       "  'NEGATIVE',\n",
       "  0.9993282556533813,\n",
       "  'https://finance.yahoo.com/news/bitcoin-gains-over-5-31-201155806.html'],\n",
       " ['BTC',\n",
       "  'Ethereum founder Vitalik Buterin opposed bill. Mining companies have threatened to leave New York',\n",
       "  'NEGATIVE',\n",
       "  0.9875537157058716,\n",
       "  'https://finance.yahoo.com/news/ethereum-founder-criticizes-york-bitcoin-164552530.html'],\n",
       " ['BTC',\n",
       "  'Weekly average inflow of crypto funds turns positive. Bitcoin has lost roughly half its value since November peak',\n",
       "  'NEGATIVE',\n",
       "  0.9996682405471802,\n",
       "  'https://ca.finance.yahoo.com/news/cryptoverse-early-birds-betting-bitcoins-051710967.html'],\n",
       " ['BTC',\n",
       "  'Coin now makes up 47.3% of crypto’s total market cap. Bitcoin’s correlation with the S&P 500 has dropped',\n",
       "  'NEGATIVE',\n",
       "  0.9988595247268677,\n",
       "  'https://money.yahoo.com/crypto-investors-ditching-tokens-for-bitcoin-201812266.html'],\n",
       " ['BTC',\n",
       "  'USD’s buying power against BTC has been in an uptrend for most part of 2020.',\n",
       "  'NEGATIVE',\n",
       "  0.9936532974243164,\n",
       "  'https://finance.yahoo.com/news/inflation-affect-cryptocurrencies-bitcoin-ethereum-171253075.html'],\n",
       " ['BTC',\n",
       "  'Nasdaq rally delivers support ahead of Friday’s payroll numbers. Bitcoin rallied to a late intraday high of $30,647 on Thursday',\n",
       "  'POSITIVE',\n",
       "  0.9612460732460022,\n",
       "  'https://finance.yahoo.com/news/bitcoin-btc-returns-30-000-011129376.html']]"
      ]
     },
     "execution_count": 59,
     "metadata": {},
     "output_type": "execute_result"
    }
   ],
   "source": [
    "final_output = create_output_array(summaries, scores, cleaned_urls)\n",
    "final_output"
   ]
  },
  {
   "cell_type": "code",
   "execution_count": 60,
   "id": "efc31f89",
   "metadata": {},
   "outputs": [
    {
     "data": {
      "text/plain": [
       "['GME',\n",
       " 'Video game retailer posts wider-than-expected losses. Shares flat in afterhours trading following the news',\n",
       " 'NEGATIVE',\n",
       " 0.9995724558830261,\n",
       " 'https://finance.yahoo.com/news/gamestop-reports-wider-q1-losses-164029882.html']"
      ]
     },
     "execution_count": 60,
     "metadata": {},
     "output_type": "execute_result"
    }
   ],
   "source": [
    "final_output[0]"
   ]
  },
  {
   "cell_type": "code",
   "execution_count": 61,
   "id": "8fa69353",
   "metadata": {},
   "outputs": [
    {
     "data": {
      "text/plain": [
       "['TSLA',\n",
       " 'Electric-car maker plans to build a Supercharger station in Los Angeles. News of the venue comes nearly four years after Musk first tweeted',\n",
       " 'NEGATIVE',\n",
       " 0.7902910113334656,\n",
       " 'https://finance.yahoo.com/news/tesla-plans-supercharger-station-24-154045486.html']"
      ]
     },
     "execution_count": 61,
     "metadata": {},
     "output_type": "execute_result"
    }
   ],
   "source": [
    "final_output[11]"
   ]
  },
  {
   "cell_type": "code",
   "execution_count": 62,
   "id": "54c6f3da",
   "metadata": {},
   "outputs": [
    {
     "data": {
      "text/plain": [
       "['BTC',\n",
       " 'Canada’s first and largest digital asset manager launches two crypto ETFs. 3iQ offers a three-month management fee waiver, lowest in Australia',\n",
       " 'NEGATIVE',\n",
       " 0.993634819984436,\n",
       " 'https://finance.yahoo.com/news/3iq-launches-3iq-coinshares-bitcoin-012100250.html']"
      ]
     },
     "execution_count": 62,
     "metadata": {},
     "output_type": "execute_result"
    }
   ],
   "source": [
    "final_output[21]"
   ]
  },
  {
   "cell_type": "code",
   "execution_count": 63,
   "id": "e3a34376",
   "metadata": {},
   "outputs": [],
   "source": [
    "final_output.insert(0, ['Ticker', 'Summary', 'Label', 'Confidence', 'URL'])"
   ]
  },
  {
   "cell_type": "code",
   "execution_count": 64,
   "id": "abeeb311",
   "metadata": {},
   "outputs": [
    {
     "data": {
      "text/plain": [
       "[['Ticker', 'Summary', 'Label', 'Confidence', 'URL'],\n",
       " ['GME',\n",
       "  'Video game retailer posts wider-than-expected losses. Shares flat in afterhours trading following the news',\n",
       "  'NEGATIVE',\n",
       "  0.9995724558830261,\n",
       "  'https://finance.yahoo.com/news/gamestop-reports-wider-q1-losses-164029882.html'],\n",
       " ['GME',\n",
       "  'Wall Street is expecting a profit for Q1 2022.',\n",
       "  'NEGATIVE',\n",
       "  0.9883319735527039,\n",
       "  'https://www.shacknews.com/article/130624/gamestop-gme-q1-2022-eps-estimates-revenue'],\n",
       " ['GME',\n",
       "  '11.4 million job openings in April: Bureau of Labor Statistics.',\n",
       "  'NEGATIVE',\n",
       "  0.8309392929077148,\n",
       "  'https://money.yahoo.com/video/market-check-stocks-gain-meme-192143662.html'],\n",
       " ['GME',\n",
       "  'Video game store expects NFT marketplace to launch in September. New Ethereum browser wallet supports Layer 2 transactions',\n",
       "  'NEGATIVE',\n",
       "  0.9992325305938721,\n",
       "  'https://finance.yahoo.com/news/gamestop-launches-beta-version-non-092459001.html'],\n",
       " ['GME',\n",
       "  'You have been directed to this page because of an action you took.',\n",
       "  'NEGATIVE',\n",
       "  0.9522318243980408,\n",
       "  'https://www.investing.com/analysis/gamestop-stock-sees-11-surge-despite-quarterly-los-200625313'],\n",
       " ['GME',\n",
       "  'Sales attributable to new and expanded brand relationships contributed to growth. Inventory was $917.6 million at the close of the quarter',\n",
       "  'POSITIVE',\n",
       "  0.9992043375968933,\n",
       "  'https://finance.yahoo.com/news/gamestop-reports-first-quarter-fiscal-200500519.html'],\n",
       " ['GME',\n",
       "  'Oil futures pare gains late in session amid reports of Shanghai CO-19 lockdown.',\n",
       "  'POSITIVE',\n",
       "  0.7827010154724121,\n",
       "  'https://finance.yahoo.com/news/stock-market-news-live-updates-may-31-2022-111708003.html'],\n",
       " ['GME',\n",
       "  'We are aware of the issue and are working to resolve it.',\n",
       "  'POSITIVE',\n",
       "  0.9979088306427002,\n",
       "  'https://finance.yahoo.com/news/bear-day-gamestop-gme-110011643.html'],\n",
       " ['GME',\n",
       "  \"Gabe Plotkin's Melvin Capital suffered heavy losses in meme stock battle. Fund to return half of cash to investors\",\n",
       "  'NEGATIVE',\n",
       "  0.9995594620704651,\n",
       "  'https://finance.yahoo.com/news/melvin-capital-shutdown-reddit-gamestop-meme-stock-134015125.html'],\n",
       " ['GME',\n",
       "  'Video game retailer to launch NFT marketplace in second quarter of fiscal year.',\n",
       "  'POSITIVE',\n",
       "  0.6581302285194397,\n",
       "  'https://finance.yahoo.com/news/gamestop-launches-wallet-cryptocurrencies-nfts-110000300.html'],\n",
       " ['TSLA',\n",
       "  'Fed Vice Chair Brainard sees little case for pause in September.',\n",
       "  'NEGATIVE',\n",
       "  0.9964095950126648,\n",
       "  'https://au.finance.yahoo.com/news/microsoft-surprise-hits-p-500-153726125.html'],\n",
       " ['TSLA',\n",
       "  'Electric-car maker plans to build a Supercharger station in Los Angeles. News of the venue comes nearly four years after Musk first tweeted',\n",
       "  'NEGATIVE',\n",
       "  0.7902910113334656,\n",
       "  'https://finance.yahoo.com/news/tesla-plans-supercharger-station-24-154045486.html'],\n",
       " ['TSLA',\n",
       "  'We are aware of the issue and are working to resolve it.',\n",
       "  'POSITIVE',\n",
       "  0.9979088306427002,\n",
       "  'https://finance.yahoo.com/video/growth-stocks-tesla-rebound-inflation-143354706.html'],\n",
       " ['TSLA',\n",
       "  'Electric car maker has become enormously popular. Tesla now offers its own insurance for its high-tech vehicles',\n",
       "  'POSITIVE',\n",
       "  0.9995372295379639,\n",
       "  'https://finance.yahoo.com/news/tesla-insurance-worth-price-plus-224700704.html'],\n",
       " ['TSLA',\n",
       "  'Tesla, SpaceX workers received similar emails. Musk taking hardline stance on remote work is in stark contrast to other tech companies',\n",
       "  'POSITIVE',\n",
       "  0.9831773638725281,\n",
       "  'https://finance.yahoo.com/news/elon-musk-tells-space-x-and-tesla-workers-that-they-must-return-to-the-office-full-time-223747961.html'],\n",
       " ['TSLA',\n",
       "  'U.S. electric carmaker has been in talks with India government for more than two years. Tesla will not build a plant in India until it can sell cars',\n",
       "  'NEGATIVE',\n",
       "  0.9802286028862,\n",
       "  'https://finance.yahoo.com/news/tesla-wont-set-manufacturing-plant-170747894.html'],\n",
       " ['TSLA',\n",
       "  'Shares are up 2.98% in pre-market trading on June 6. Musk said he had a ‘super bad feeling’ about economy, leaked emails show',\n",
       "  'NEGATIVE',\n",
       "  0.9954944849014282,\n",
       "  'https://finance.yahoo.com/news/elon-musk-backpedals-tesla-workforce-150302085.html'],\n",
       " ['TSLA',\n",
       "  \"EV maker has seen its near-term stock price move lower recently. Earnings Estimate Revisions are one of the main factors that determine the stock's fair value.\",\n",
       "  'NEGATIVE',\n",
       "  0.9970801472663879,\n",
       "  'https://finance.yahoo.com/news/tesla-inc-tsla-attracting-investor-130001614.html'],\n",
       " ['TSLA',\n",
       "  'Musk sent an email to staff saying he would cut 10% of salaried jobs. Tesla employed nearly 100,000 staff at the end of 2021',\n",
       "  'NEGATIVE',\n",
       "  0.9894479513168335,\n",
       "  'https://ca.finance.yahoo.com/news/emailing-employees-job-cuts-tesla-013822476.html'],\n",
       " ['TSLA',\n",
       "  'Moore, Ozcelik leave Apple, Nvidia. Musk called lidar ‘crutch’ and ‘fool’s errand’',\n",
       "  'NEGATIVE',\n",
       "  0.9994169473648071,\n",
       "  'https://finance.yahoo.com/news/luminar-hires-execs-apple-nvidia-143020337.html'],\n",
       " ['BTC',\n",
       "  'Buying the coin before the market opens and selling it at the close generates negative returns.',\n",
       "  'NEGATIVE',\n",
       "  0.9995482563972473,\n",
       "  'https://ca.finance.yahoo.com/news/most-bitcoin-pandemic-gains-came-174704100.html'],\n",
       " ['BTC',\n",
       "  'Canada’s first and largest digital asset manager launches two crypto ETFs. 3iQ offers a three-month management fee waiver, lowest in Australia',\n",
       "  'NEGATIVE',\n",
       "  0.993634819984436,\n",
       "  'https://finance.yahoo.com/news/3iq-launches-3iq-coinshares-bitcoin-012100250.html'],\n",
       " ['BTC',\n",
       "  'SourceLess participates in Bitcoin Bucharest event where Alexandru Stratulat gave a brief overview of the ecosystem.',\n",
       "  'POSITIVE',\n",
       "  0.9411106109619141,\n",
       "  'https://uk.finance.yahoo.com/news/sourceless-joins-bitcoin-bucharest-2022-110000777.html'],\n",
       " ['BTC',\n",
       "  'Leaders of cryptocurrencies are attempting to make a move upwards. Price has been moving sideways for almost a month',\n",
       "  'NEGATIVE',\n",
       "  0.9989579916000366,\n",
       "  'https://finance.yahoo.com/news/bitcoin-set-witness-another-dip-191331432.html'],\n",
       " ['BTC',\n",
       "  'The world’s biggest and best-known cryptocurrency is down 34.8% from the year’s high.',\n",
       "  'NEGATIVE',\n",
       "  0.9993282556533813,\n",
       "  'https://finance.yahoo.com/news/bitcoin-gains-over-5-31-201155806.html'],\n",
       " ['BTC',\n",
       "  'Ethereum founder Vitalik Buterin opposed bill. Mining companies have threatened to leave New York',\n",
       "  'NEGATIVE',\n",
       "  0.9875537157058716,\n",
       "  'https://finance.yahoo.com/news/ethereum-founder-criticizes-york-bitcoin-164552530.html'],\n",
       " ['BTC',\n",
       "  'Weekly average inflow of crypto funds turns positive. Bitcoin has lost roughly half its value since November peak',\n",
       "  'NEGATIVE',\n",
       "  0.9996682405471802,\n",
       "  'https://ca.finance.yahoo.com/news/cryptoverse-early-birds-betting-bitcoins-051710967.html'],\n",
       " ['BTC',\n",
       "  'Coin now makes up 47.3% of crypto’s total market cap. Bitcoin’s correlation with the S&P 500 has dropped',\n",
       "  'NEGATIVE',\n",
       "  0.9988595247268677,\n",
       "  'https://money.yahoo.com/crypto-investors-ditching-tokens-for-bitcoin-201812266.html'],\n",
       " ['BTC',\n",
       "  'USD’s buying power against BTC has been in an uptrend for most part of 2020.',\n",
       "  'NEGATIVE',\n",
       "  0.9936532974243164,\n",
       "  'https://finance.yahoo.com/news/inflation-affect-cryptocurrencies-bitcoin-ethereum-171253075.html'],\n",
       " ['BTC',\n",
       "  'Nasdaq rally delivers support ahead of Friday’s payroll numbers. Bitcoin rallied to a late intraday high of $30,647 on Thursday',\n",
       "  'POSITIVE',\n",
       "  0.9612460732460022,\n",
       "  'https://finance.yahoo.com/news/bitcoin-btc-returns-30-000-011129376.html']]"
      ]
     },
     "execution_count": 64,
     "metadata": {},
     "output_type": "execute_result"
    }
   ],
   "source": [
    "final_output"
   ]
  },
  {
   "cell_type": "code",
   "execution_count": 66,
   "id": "afd3d778",
   "metadata": {},
   "outputs": [],
   "source": [
    "import csv\n",
    "with open('stocks.csv', mode='w', newline='') as f:\n",
    "    csv_writer = csv.writer(f, delimiter=',', quotechar='\"', quoting=csv.QUOTE_MINIMAL)\n",
    "    csv_writer.writerows(final_output)"
   ]
  },
  {
   "cell_type": "code",
   "execution_count": null,
   "id": "e3c8cf52",
   "metadata": {},
   "outputs": [],
   "source": []
  }
 ],
 "metadata": {
  "kernelspec": {
   "display_name": "Python 3 (ipykernel)",
   "language": "python",
   "name": "python3"
  },
  "language_info": {
   "codemirror_mode": {
    "name": "ipython",
    "version": 3
   },
   "file_extension": ".py",
   "mimetype": "text/x-python",
   "name": "python",
   "nbconvert_exporter": "python",
   "pygments_lexer": "ipython3",
   "version": "3.10.4"
  }
 },
 "nbformat": 4,
 "nbformat_minor": 5
}
